{
 "cells": [
  {
   "cell_type": "markdown",
   "id": "4e1332ad",
   "metadata": {
    "colab_type": "text",
    "id": "view-in-github"
   },
   "source": [
    "<a href=\"https://colab.research.google.com/github/Tayyab7404/Data-Analysis/blob/main/Numpy.ipynb\" target=\"_parent\"><img src=\"https://colab.research.google.com/assets/colab-badge.svg\" alt=\"Open In Colab\"/></a>"
   ]
  },
  {
   "cell_type": "markdown",
   "id": "c39049f7",
   "metadata": {
    "id": "c39049f7"
   },
   "source": [
    "## 1. Create a one-dimensional array and perform  all operations on it."
   ]
  },
  {
   "cell_type": "code",
   "execution_count": null,
   "id": "d9bf373a",
   "metadata": {
    "colab": {
     "base_uri": "https://localhost:8080/"
    },
    "id": "d9bf373a",
    "outputId": "b88f589c-c5e5-4023-e011-0853a62ab9b7"
   },
   "outputs": [
    {
     "name": "stdout",
     "output_type": "stream",
     "text": [
      "Array 1:\n",
      "[ 0  2  4  6  8 10 12 14 16 18 20]\n",
      "Array 2:\n",
      "[0.  0.5 1.  1.5 2.  2.5 3.  3.5 4.  4.5 5. ]\n",
      "\n",
      "Array 1 + Array 2:  [ 0.   2.5  5.   7.5 10.  12.5 15.  17.5 20.  22.5 25. ]\n",
      "Array 1 - Array 2:  [ 0.   1.5  3.   4.5  6.   7.5  9.  10.5 12.  13.5 15. ]\n",
      "Array 1 * Array 2:  [  0.   1.   4.   9.  16.  25.  36.  49.  64.  81. 100.]\n",
      "Array 1 / Array 2:  [4. 4. 4. 4. 4. 4. 4. 4. 4. 4.]\n",
      "Array 1 % Array 2:  [0. 0. 0. 0. 0. 0. 0. 0. 0. 0.]\n"
     ]
    }
   ],
   "source": [
    "import numpy as np\n",
    "\n",
    "arr1 = np.arange(0,21,2)\n",
    "print(\"Array 1:\")\n",
    "print(arr1)\n",
    "\n",
    "arr2 = np.linspace(0,5,11)\n",
    "print(\"Array 2:\")\n",
    "print(arr2)\n",
    "\n",
    "print()\n",
    "\n",
    "print(\"Array 1 + Array 2: \",arr1 + arr2)\n",
    "print(\"Array 1 - Array 2: \",arr1 - arr2)\n",
    "print(\"Array 1 * Array 2: \",arr1 * arr2)\n",
    "print(\"Array 1 / Array 2: \",arr1[1:] / arr2[1:])\n",
    "print(\"Array 1 % Array 2: \",arr1[1:] % arr2[1:])"
   ]
  },
  {
   "cell_type": "markdown",
   "id": "103ce4d8",
   "metadata": {
    "id": "103ce4d8"
   },
   "source": [
    "## 2. Create multi-dimensional arrays and find its shape and dimension."
   ]
  },
  {
   "cell_type": "code",
   "execution_count": null,
   "id": "eeb787f1",
   "metadata": {
    "colab": {
     "base_uri": "https://localhost:8080/"
    },
    "id": "eeb787f1",
    "outputId": "7ff48fca-5783-4e3b-b880-183671c57c93"
   },
   "outputs": [
    {
     "name": "stdout",
     "output_type": "stream",
     "text": [
      "Dimension of arr: 2\n",
      "Shape of arr: (3, 3)\n"
     ]
    }
   ],
   "source": [
    "import numpy as np\n",
    "\n",
    "arr = np.array([1,2,3,4,5,6,7,8,9])\n",
    "\n",
    "arr = arr.reshape(3,3)\n",
    "\n",
    "print(f\"Dimension of arr: {arr.ndim}\")\n",
    "print(f\"Shape of arr: {arr.shape}\")"
   ]
  },
  {
   "cell_type": "markdown",
   "id": "11165b02",
   "metadata": {
    "id": "11165b02"
   },
   "source": [
    "## 3. Create a matrix full of zeros and ones."
   ]
  },
  {
   "cell_type": "code",
   "execution_count": null,
   "id": "03c006a5",
   "metadata": {
    "id": "03c006a5",
    "outputId": "f57b94a6-7c1b-44a0-ad4c-8a2f0ff99093"
   },
   "outputs": [
    {
     "name": "stdout",
     "output_type": "stream",
     "text": [
      "Matrix with zeros:\n",
      "[[0 0 0]\n",
      " [0 0 0]\n",
      " [0 0 0]]\n",
      "\n",
      "Matrix with ones:\n",
      "[[1. 1. 1.]\n",
      " [1. 1. 1.]\n",
      " [1. 1. 1.]]\n"
     ]
    }
   ],
   "source": [
    "import numpy as np\n",
    "\n",
    "mat1 = np.zeros((3,3),dtype=int)\n",
    "print(\"Matrix with zeros:\")\n",
    "print(mat1)\n",
    "\n",
    "print()\n",
    "\n",
    "mat2 = np.full((3,3),1,dtype=float)\n",
    "print(\"Matrix with ones:\")\n",
    "print(mat2)"
   ]
  },
  {
   "cell_type": "markdown",
   "id": "1b665b8f",
   "metadata": {
    "id": "1b665b8f"
   },
   "source": [
    "## 4. Reshape and flatten data in the array."
   ]
  },
  {
   "cell_type": "code",
   "execution_count": null,
   "id": "f3a7d05b",
   "metadata": {
    "colab": {
     "base_uri": "https://localhost:8080/"
    },
    "id": "f3a7d05b",
    "outputId": "b2d96bc6-e23c-427b-fd8a-251025386735"
   },
   "outputs": [
    {
     "name": "stdout",
     "output_type": "stream",
     "text": [
      "Matrix Before Reshaping:\n",
      "[1 2 3 4 5 6 7 8 9]\n",
      "Matrix After Reshaping:\n",
      "[[1 2 3]\n",
      " [4 5 6]\n",
      " [7 8 9]]\n",
      "\n",
      "Matrix Before Flattening:\n",
      "[[1 2 3]\n",
      " [4 5 6]\n",
      " [7 8 9]]\n",
      "Matrix After Flattening:\n",
      "[1 2 3 4 5 6 7 8 9]\n"
     ]
    }
   ],
   "source": [
    "import numpy as np\n",
    "\n",
    "mat1 = np.array([1,2,3,4,5,6,7,8,9])\n",
    "print(\"Matrix Before Reshaping:\")\n",
    "print(mat1)\n",
    "\n",
    "mat1 = mat1.reshape((3,3))\n",
    "print(\"Matrix After Reshaping:\")\n",
    "print(mat1)\n",
    "\n",
    "print()\n",
    "\n",
    "mat2 = np.array(mat1)\n",
    "print(\"Matrix Before Flattening:\")\n",
    "print(mat2)\n",
    "\n",
    "mat2 = mat2.flatten()\n",
    "print(\"Matrix After Flattening:\")\n",
    "print(mat2)"
   ]
  },
  {
   "cell_type": "markdown",
   "id": "cdac0dc0",
   "metadata": {
    "id": "cdac0dc0"
   },
   "source": [
    "## 5. Perform arithmetic operations on multi-dimensional arrays."
   ]
  },
  {
   "cell_type": "code",
   "execution_count": null,
   "id": "4523a3d9",
   "metadata": {
    "colab": {
     "base_uri": "https://localhost:8080/"
    },
    "id": "4523a3d9",
    "outputId": "68fefc4e-64e7-4f62-d376-e90b8ec396e0"
   },
   "outputs": [
    {
     "name": "stdout",
     "output_type": "stream",
     "text": [
      "Matrix 1:\n",
      "[[1 2 3]\n",
      " [4 5 6]\n",
      " [7 8 9]]\n",
      "Matrix 2\n",
      "[[9 8 7]\n",
      " [6 5 4]\n",
      " [3 2 1]]\n",
      "\n",
      "Matrix 1 + Matrix 2:\n",
      "[[10 10 10]\n",
      " [10 10 10]\n",
      " [10 10 10]]\n",
      "\n",
      "Matrix 1 - Matrix 2:\n",
      "[[-8 -6 -4]\n",
      " [-2  0  2]\n",
      " [ 4  6  8]]\n",
      "\n",
      "Matrix 1 * Matrix 2:\n",
      "[[ 9 16 21]\n",
      " [24 25 24]\n",
      " [21 16  9]]\n",
      "\n",
      "Matrix 1 / Matrix 2:\n",
      "[[0.11111111 0.25       0.42857143]\n",
      " [0.66666667 1.         1.5       ]\n",
      " [2.33333333 4.         9.        ]]\n",
      "\n",
      "Matrix 1 % Matrix 2:\n",
      "[[1 2 3]\n",
      " [4 0 2]\n",
      " [1 0 0]]\n"
     ]
    }
   ],
   "source": [
    "import numpy as np\n",
    "\n",
    "mat1 = np.array([[1,2,3],[4,5,6],[7,8,9]])\n",
    "mat2 = np.array([[9,8,7],[6,5,4],[3,2,1]])\n",
    "print(\"Matrix 1:\")\n",
    "print(mat1)\n",
    "print(\"Matrix 2\")\n",
    "print(mat2)\n",
    "print()\n",
    "print(\"Matrix 1 + Matrix 2:\")\n",
    "print(mat1 + mat2)\n",
    "print()\n",
    "print(\"Matrix 1 - Matrix 2:\")\n",
    "print(mat1 - mat2)\n",
    "print()\n",
    "print(\"Matrix 1 * Matrix 2:\")\n",
    "print(mat1 * mat2)\n",
    "print()\n",
    "print(\"Matrix 1 / Matrix 2:\")\n",
    "print(mat1 / mat2)\n",
    "print()\n",
    "print(\"Matrix 1 % Matrix 2:\")\n",
    "print(mat1 % mat2)"
   ]
  },
  {
   "cell_type": "markdown",
   "id": "40ad4690",
   "metadata": {
    "id": "40ad4690"
   },
   "source": [
    "## 6. Append data Vertically and Horizontally."
   ]
  },
  {
   "cell_type": "code",
   "execution_count": null,
   "id": "6303e8b1",
   "metadata": {
    "colab": {
     "base_uri": "https://localhost:8080/"
    },
    "id": "6303e8b1",
    "outputId": "a1a5b30d-bd0d-4d95-cdee-ff7b077b2424"
   },
   "outputs": [
    {
     "name": "stdout",
     "output_type": "stream",
     "text": [
      "Matrix Before Appending Vertically:\n",
      "[[1 2 3]\n",
      " [4 5 6]\n",
      " [7 8 9]]\n",
      "Matrix After Appending Vertically:\n",
      "[[ 1  2  3 10]\n",
      " [ 4  5  6 11]\n",
      " [ 7  8  9 12]]\n",
      "\n",
      "Matrix Before Appending Horizontally:\n",
      "[[1 2 3]\n",
      " [4 5 6]\n",
      " [7 8 9]]\n",
      "Matrix After Appending Horizontally:\n",
      "[[ 1  2  3]\n",
      " [ 4  5  6]\n",
      " [ 7  8  9]\n",
      " [10 11 12]]\n"
     ]
    }
   ],
   "source": [
    "import numpy as np\n",
    "\n",
    "mat1 = np.array([[1,2,3],[4,5,6],[7,8,9]])\n",
    "print(\"Matrix Before Appending Vertically:\")\n",
    "print(mat1)\n",
    "\n",
    "mat1 = np.append(mat1,[[10],[11],[12]],axis=1)\n",
    "print(\"Matrix After Appending Vertically:\")\n",
    "print(mat1)\n",
    "\n",
    "print()\n",
    "\n",
    "mat2 = np.array([[1,2,3],[4,5,6],[7,8,9]])\n",
    "print(\"Matrix Before Appending Horizontally:\")\n",
    "print(mat2)\n",
    "\n",
    "mat2 = np.append(mat2,[[10,11,12]],axis=0)\n",
    "print(\"Matrix After Appending Horizontally:\")\n",
    "print(mat2)"
   ]
  },
  {
   "cell_type": "markdown",
   "id": "9567c431",
   "metadata": {
    "id": "9567c431"
   },
   "source": [
    "## 7. Apply indexing and slicing on array."
   ]
  },
  {
   "cell_type": "code",
   "execution_count": null,
   "id": "c05aca9c",
   "metadata": {
    "colab": {
     "base_uri": "https://localhost:8080/"
    },
    "id": "c05aca9c",
    "outputId": "ccdc9972-4526-45ef-cee9-e76ae72ffb21"
   },
   "outputs": [
    {
     "name": "stdout",
     "output_type": "stream",
     "text": [
      "Array:  [3 5 5 2 3 4 1 9 1 8 9 2 3 4 9]\n",
      "Element at index 3: 2\n",
      "Element at index 7: 9\n",
      "Elements from index 0 to 6: [3 5 5 2 3 4 1]\n",
      "Elements from index 2 to 8: [5 2 3 4 1 9 1]\n"
     ]
    }
   ],
   "source": [
    "import numpy as np\n",
    "\n",
    "arr = np.random.randint(low=1,high=10,size=15,dtype=int)\n",
    "print(\"Array: \",arr)\n",
    "print(f\"Element at index 3: {arr[3]}\")\n",
    "print(f\"Element at index 7: {arr[7]}\")\n",
    "\n",
    "print(f\"Elements from index 0 to 6: {arr[0:7]}\")\n",
    "print(f\"Elements from index 2 to 8: {arr[2:9]}\")"
   ]
  },
  {
   "cell_type": "markdown",
   "id": "f1f4f08e",
   "metadata": {
    "id": "f1f4f08e"
   },
   "source": [
    "## 8. Use statistical functions on array - Min, Max, Mean, Median and Standard Deviation."
   ]
  },
  {
   "cell_type": "code",
   "execution_count": null,
   "id": "783ab86d",
   "metadata": {
    "colab": {
     "base_uri": "https://localhost:8080/"
    },
    "id": "783ab86d",
    "outputId": "7634034d-576d-4c31-eba6-e6d347328622"
   },
   "outputs": [
    {
     "name": "stdout",
     "output_type": "stream",
     "text": [
      "Array:  [3 6 1 1 2 6 1 8 8 6 6 4 1 4 4]\n",
      "Minimum = 1\n",
      "Maximum = 8\n",
      "Mean = 4.066666666666666\n",
      "Median = 4.0\n",
      "Standard Deviation = 2.434930982366623\n",
      "Variance = 5.928888888888889\n"
     ]
    }
   ],
   "source": [
    "import numpy as np\n",
    "\n",
    "arr = np.random.randint(low=1,high=10,size=15,dtype=int)\n",
    "print(\"Array: \",arr)\n",
    "\n",
    "print(f\"Minimum = {np.amin(arr)}\")\n",
    "print(f\"Maximum = {np.amax(arr)}\")\n",
    "print(f\"Mean = {np.mean(arr)}\")\n",
    "print(f\"Median = {np.median(arr)}\")\n",
    "print(f\"Standard Deviation = {np.std(arr)}\")\n",
    "print(f\"Variance = {np.var(arr)}\")"
   ]
  },
  {
   "cell_type": "markdown",
   "id": "8460869a",
   "metadata": {
    "id": "8460869a"
   },
   "source": [
    "## 9. Dot matrix product of two arrays."
   ]
  },
  {
   "cell_type": "code",
   "execution_count": null,
   "id": "FjVbemAL_yGc",
   "metadata": {
    "colab": {
     "base_uri": "https://localhost:8080/"
    },
    "id": "FjVbemAL_yGc",
    "outputId": "f7bc42b6-d97f-4e7c-eaa4-f8b756616244"
   },
   "outputs": [
    {
     "name": "stdout",
     "output_type": "stream",
     "text": [
      "Matrix 1:\n",
      "[[1 8 9]\n",
      " [2 2 5]\n",
      " [4 2 6]]\n",
      "\n",
      "Matrix 2:\n",
      "[[1 9 5]\n",
      " [6 8 9]\n",
      " [3 8 3]]\n",
      "\n",
      "Matrix 1 * Matrix 2:\n",
      "[[ 76 145 104]\n",
      " [ 29  74  43]\n",
      " [ 34 100  56]]\n"
     ]
    }
   ],
   "source": [
    "import numpy as np\n",
    "\n",
    "mat1 = np.random.randint(low=1,high=10,size=[3,3],dtype=int)\n",
    "mat2 = np.random.randint(low=1,high=10,size=[3,3],dtype=int)\n",
    "\n",
    "print(\"Matrix 1:\")\n",
    "print(mat1)\n",
    "print()\n",
    "print(\"Matrix 2:\")\n",
    "print(mat2)\n",
    "print()\n",
    "print(\"Matrix 1 * Matrix 2:\")\n",
    "print(np.dot(mat1,mat2))"
   ]
  },
  {
   "cell_type": "markdown",
   "id": "5PbcHtmcA4RG",
   "metadata": {
    "id": "5PbcHtmcA4RG"
   },
   "source": [
    "## 10. Compute the Eigen values of a matrix."
   ]
  },
  {
   "cell_type": "code",
   "execution_count": null,
   "id": "oZh7P2s8h5-p",
   "metadata": {
    "colab": {
     "base_uri": "https://localhost:8080/"
    },
    "id": "oZh7P2s8h5-p",
    "outputId": "168e639c-c360-4917-823a-4feb7504b18d"
   },
   "outputs": [
    {
     "name": "stdout",
     "output_type": "stream",
     "text": [
      "Matrix:\n",
      "[[3 1 1]\n",
      " [2 4 2]\n",
      " [1 1 3]]\n",
      "\n",
      "Eigen Values:\n",
      "[2. 6. 2.]\n",
      "\n",
      "Eigen Vectors:\n",
      "[[-0.80178373  0.40824829 -0.20234712]\n",
      " [ 0.53452248  0.81649658 -0.58387515]\n",
      " [ 0.26726124  0.40824829  0.78622227]]\n"
     ]
    }
   ],
   "source": [
    "import numpy as np\n",
    "\n",
    "mat = np.array([[3,1,1],[2,4,2],[1,1,3]])\n",
    "\n",
    "print(\"Matrix:\")\n",
    "print(mat)\n",
    "print()\n",
    "\n",
    "EigVals, EigVecs = np.linalg.eig(mat)\n",
    "\n",
    "print(\"Eigen Values:\")\n",
    "print(EigVals)\n",
    "\n",
    "print()\n",
    "\n",
    "print(\"Eigen Vectors:\")\n",
    "print(EigVecs)"
   ]
  },
  {
   "cell_type": "markdown",
   "id": "TdCSAc6eiYnI",
   "metadata": {
    "id": "TdCSAc6eiYnI"
   },
   "source": [
    "## 11. Solve a linear matrix equation such as 3x + y = 9, x + 2y = 8."
   ]
  },
  {
   "cell_type": "code",
   "execution_count": null,
   "id": "EknYWeouiJ3r",
   "metadata": {
    "colab": {
     "base_uri": "https://localhost:8080/"
    },
    "id": "EknYWeouiJ3r",
    "outputId": "ca1016e4-15d5-4ca2-96f6-8bc510fff721"
   },
   "outputs": [
    {
     "name": "stdout",
     "output_type": "stream",
     "text": [
      "Equation 1: 3x + y = 9\n",
      "Equation 2: x + 2y = 8\n",
      "\n",
      "Solution: \n",
      "x = 2.0, y = 3.0\n",
      "\n",
      "Verification: \n",
      "True\n"
     ]
    }
   ],
   "source": [
    "import numpy as np\n",
    "\n",
    "arr1 = np.array([[3,1],[1,2]])\n",
    "arr2 = np.array([9,8])\n",
    "\n",
    "print(\"Equation 1: 3x + y = 9\")\n",
    "print(\"Equation 2: x + 2y = 8\")\n",
    "\n",
    "print()\n",
    "\n",
    "sol = np.linalg.solve(arr1,arr2)\n",
    "\n",
    "print(\"Solution: \")\n",
    "print(f\"x = {sol[0]}, y = {sol[1]}\")\n",
    "\n",
    "print()\n",
    "\n",
    "print(\"Verification: \")\n",
    "print(np.allclose(np.dot(arr1, sol), arr2))"
   ]
  },
  {
   "cell_type": "markdown",
   "id": "4z3jv7qPk0YF",
   "metadata": {
    "id": "4z3jv7qPk0YF"
   },
   "source": [
    "## 12. Compute the multiplicative inverse of a matrix."
   ]
  },
  {
   "cell_type": "code",
   "execution_count": null,
   "id": "miHgNuG1naUj",
   "metadata": {
    "colab": {
     "base_uri": "https://localhost:8080/"
    },
    "id": "miHgNuG1naUj",
    "outputId": "cd666566-461f-400c-ec74-6bce4e9db536"
   },
   "outputs": [
    {
     "name": "stdout",
     "output_type": "stream",
     "text": [
      "Matrix:\n",
      "[[3 1 1]\n",
      " [2 4 2]\n",
      " [1 1 3]]\n",
      "\n",
      "Inverse of Matrix:\n",
      "[[ 0.41666667 -0.08333333 -0.08333333]\n",
      " [-0.16666667  0.33333333 -0.16666667]\n",
      " [-0.08333333 -0.08333333  0.41666667]]\n"
     ]
    }
   ],
   "source": [
    "import numpy as np\n",
    "\n",
    "mat = np.array([[3,1,1],[2,4,2],[1,1,3]])\n",
    "\n",
    "print(\"Matrix:\")\n",
    "print(mat)\n",
    "print()\n",
    "\n",
    "inv = np.linalg.inv(mat)\n",
    "\n",
    "print(\"Inverse of Matrix:\")\n",
    "print(inv)"
   ]
  },
  {
   "cell_type": "markdown",
   "id": "5Gfy-ca6ky22",
   "metadata": {
    "id": "5Gfy-ca6ky22"
   },
   "source": [
    "## 13. Compute the rank of a matrix."
   ]
  },
  {
   "cell_type": "code",
   "execution_count": null,
   "id": "29wW0V-Anaru",
   "metadata": {
    "colab": {
     "base_uri": "https://localhost:8080/"
    },
    "id": "29wW0V-Anaru",
    "outputId": "72039370-cde4-4d88-f568-42234f3da707"
   },
   "outputs": [
    {
     "name": "stdout",
     "output_type": "stream",
     "text": [
      "Matrix:\n",
      "[[1 2 3]\n",
      " [2 3 4]\n",
      " [3 5 7]]\n",
      "\n",
      "Rank of Matrix:\n",
      "2\n"
     ]
    }
   ],
   "source": [
    "import numpy as np\n",
    "\n",
    "mat = np.array([[1,2,3],[2,3,4],[3,5,7]])\n",
    "\n",
    "print(\"Matrix:\")\n",
    "print(mat)\n",
    "print()\n",
    "\n",
    "rank = np.linalg.matrix_rank(mat)\n",
    "\n",
    "print(\"Rank of Matrix:\")\n",
    "print(rank)\n",
    "\n"
   ]
  },
  {
   "cell_type": "markdown",
   "id": "gbRkE5ewkysr",
   "metadata": {
    "id": "gbRkE5ewkysr"
   },
   "source": [
    "## 14. Compute the determinant of matrix."
   ]
  },
  {
   "cell_type": "code",
   "execution_count": null,
   "id": "9s5A8N_lnbkK",
   "metadata": {
    "colab": {
     "base_uri": "https://localhost:8080/"
    },
    "id": "9s5A8N_lnbkK",
    "outputId": "55654942-6fe5-4da3-8aaf-26088dda365a"
   },
   "outputs": [
    {
     "name": "stdout",
     "output_type": "stream",
     "text": [
      "Matrix:\n",
      "[[3 1 1]\n",
      " [2 4 2]\n",
      " [1 1 3]]\n",
      "\n",
      "Determinant of Matrix:\n",
      "24.000000000000004\n"
     ]
    }
   ],
   "source": [
    "import numpy as np\n",
    "\n",
    "mat = np.array([[3,1,1],[2,4,2],[1,1,3]])\n",
    "\n",
    "print(\"Matrix:\")\n",
    "print(mat)\n",
    "print()\n",
    "\n",
    "det = np.linalg.det(mat)\n",
    "\n",
    "print(\"Determinant of Matrix:\")\n",
    "print(det)"
   ]
  },
  {
   "cell_type": "markdown",
   "id": "SqmJh5S1kyWz",
   "metadata": {
    "id": "SqmJh5S1kyWz"
   },
   "source": [
    "## 15. Perform transpose and change of axes operations on arrays."
   ]
  },
  {
   "cell_type": "code",
   "execution_count": null,
   "id": "oU5zKU3sAiVk",
   "metadata": {
    "colab": {
     "base_uri": "https://localhost:8080/"
    },
    "id": "oU5zKU3sAiVk",
    "outputId": "25de345f-4d20-4f23-ea5f-8d7a49c7ff5f"
   },
   "outputs": [
    {
     "name": "stdout",
     "output_type": "stream",
     "text": [
      "Matrix:\n",
      "[[ 1  2  3  4]\n",
      " [ 5  6  7  8]\n",
      " [ 9 10 11 12]\n",
      " [13 14 15 16]]\n",
      "\n",
      "Matrix Transpose:\n",
      "[[ 1  5  9 13]\n",
      " [ 2  6 10 14]\n",
      " [ 3  7 11 15]\n",
      " [ 4  8 12 16]]\n",
      "\n",
      "Swapped axes:\n",
      "[[ 1  5  9 13]\n",
      " [ 2  6 10 14]\n",
      " [ 3  7 11 15]\n",
      " [ 4  8 12 16]]\n"
     ]
    }
   ],
   "source": [
    "import numpy as np\n",
    "\n",
    "mat = np.array([[1,2,3,4],[5,6,7,8],[9,10,11,12],[13,14,15,16]])\n",
    "\n",
    "print(\"Matrix:\")\n",
    "print(mat)\n",
    "print()\n",
    "\n",
    "matT = np.transpose(mat)\n",
    "\n",
    "print(\"Matrix Transpose:\")\n",
    "print(matT)\n",
    "print()\n",
    "\n",
    "mat_ax = np.swapaxes(mat,0,1)\n",
    "\n",
    "print(\"Swapped axes:\")\n",
    "print(mat_ax)"
   ]
  },
  {
   "cell_type": "markdown",
   "id": "YHXK4hJzkyMk",
   "metadata": {
    "id": "YHXK4hJzkyMk"
   },
   "source": [
    "## 16. Perform splitting operations on arrays."
   ]
  },
  {
   "cell_type": "code",
   "execution_count": 29,
   "id": "J83YrlbG9IPu",
   "metadata": {
    "colab": {
     "base_uri": "https://localhost:8080/"
    },
    "id": "J83YrlbG9IPu",
    "outputId": "8245fe34-04c8-4b0a-88d9-a46de69b2d0e"
   },
   "outputs": [
    {
     "name": "stdout",
     "output_type": "stream",
     "text": [
      "Array:\n",
      "[[0 1 2]\n",
      " [3 4 5]\n",
      " [6 7 8]]\n",
      "\n",
      "Horizontal split:\n",
      "[[0]\n",
      " [3]\n",
      " [6]]\n",
      "[[1]\n",
      " [4]\n",
      " [7]]\n",
      "[[2]\n",
      " [5]\n",
      " [8]]\n",
      "\n",
      "Vertical split:\n",
      "[[0 1 2]]\n",
      "[[3 4 5]]\n",
      "[[6 7 8]]\n",
      "\n"
     ]
    }
   ],
   "source": [
    "import numpy as np\n",
    "\n",
    "arr = np.arange(9).reshape(3,3)\n",
    "\n",
    "print(\"Array:\")\n",
    "print(arr)\n",
    "print()\n",
    "\n",
    "print(\"Horizontal split:\")\n",
    "a,b,c = np.hsplit(arr,3)\n",
    "print(a)\n",
    "print(b)\n",
    "print(c)\n",
    "print()\n",
    "\n",
    "print(\"Vertical split:\")\n",
    "a,b,c = np.vsplit(arr,3)\n",
    "print(a)\n",
    "print(b)\n",
    "print(c)\n",
    "print()"
   ]
  }
 ],
 "metadata": {
  "colab": {
   "include_colab_link": true,
   "provenance": []
  },
  "kernelspec": {
   "display_name": "Python 3 (ipykernel)",
   "language": "python",
   "name": "python3"
  },
  "language_info": {
   "codemirror_mode": {
    "name": "ipython",
    "version": 3
   },
   "file_extension": ".py",
   "mimetype": "text/x-python",
   "name": "python",
   "nbconvert_exporter": "python",
   "pygments_lexer": "ipython3",
   "version": "3.10.9"
  }
 },
 "nbformat": 4,
 "nbformat_minor": 5
}
