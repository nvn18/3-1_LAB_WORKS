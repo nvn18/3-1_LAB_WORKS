{
 "cells": [
  {
   "cell_type": "markdown",
   "id": "07022c01",
   "metadata": {
    "colab_type": "text",
    "id": "view-in-github"
   },
   "source": [
    "<a href=\"https://colab.research.google.com/github/Tayyab7404/Data-Analysis/blob/main/Pandas%20Series.ipynb\" target=\"_parent\"><img src=\"https://colab.research.google.com/assets/colab-badge.svg\" alt=\"Open In Colab\"/></a>"
   ]
  },
  {
   "cell_type": "markdown",
   "id": "f5a1776d",
   "metadata": {
    "id": "f5a1776d"
   },
   "source": [
    "# Pandas Series"
   ]
  },
  {
   "cell_type": "code",
   "execution_count": 1,
   "id": "889b9809",
   "metadata": {
    "id": "889b9809"
   },
   "outputs": [],
   "source": [
    "import pandas as pd"
   ]
  },
  {
   "cell_type": "markdown",
   "id": "87296319",
   "metadata": {
    "id": "87296319"
   },
   "source": [
    "### 1. Write a program to create and display a one-dimensional array-like object containing an array of data using Pandas module"
   ]
  },
  {
   "cell_type": "code",
   "execution_count": 2,
   "id": "ba47a654",
   "metadata": {
    "colab": {
     "base_uri": "https://localhost:8080/"
    },
    "id": "ba47a654",
    "outputId": "125f8431-c318-4146-9278-234d0649fbfd"
   },
   "outputs": [
    {
     "name": "stdout",
     "output_type": "stream",
     "text": [
      "0    1\n",
      "1    2\n",
      "2    3\n",
      "3    4\n",
      "4    5\n",
      "5    6\n",
      "6    7\n",
      "7    8\n",
      "dtype: int64\n"
     ]
    }
   ],
   "source": [
    "ser = pd.Series([1,2,3,4,5,6,7,8])\n",
    "\n",
    "print(ser)"
   ]
  },
  {
   "cell_type": "markdown",
   "id": "c981d120",
   "metadata": {
    "id": "c981d120"
   },
   "source": [
    "### 2. Write a program to convert a pandas module series to python list"
   ]
  },
  {
   "cell_type": "code",
   "execution_count": 3,
   "id": "53b23d29",
   "metadata": {
    "colab": {
     "base_uri": "https://localhost:8080/"
    },
    "id": "53b23d29",
    "outputId": "c6e8df1b-bf42-4610-af11-b14618b1d7a0"
   },
   "outputs": [
    {
     "name": "stdout",
     "output_type": "stream",
     "text": [
      "[1, 2, 3, 4, 5, 6, 7, 8]\n"
     ]
    }
   ],
   "source": [
    "ser = pd.Series([1,2,3,4,5,6,7,8])\n",
    "\n",
    "ser = ser.tolist()\n",
    "\n",
    "print(ser)"
   ]
  },
  {
   "cell_type": "markdown",
   "id": "7f256ba8",
   "metadata": {
    "id": "7f256ba8"
   },
   "source": [
    "### 3. Write a program to add, subtract, multiply and divide two pandas series"
   ]
  },
  {
   "cell_type": "code",
   "execution_count": 4,
   "id": "3dda4763",
   "metadata": {
    "colab": {
     "base_uri": "https://localhost:8080/"
    },
    "id": "3dda4763",
    "outputId": "d6b666e8-80e8-4e7e-e35d-f67b88dfe397"
   },
   "outputs": [
    {
     "name": "stdout",
     "output_type": "stream",
     "text": [
      "0    9\n",
      "1    9\n",
      "2    9\n",
      "3    9\n",
      "4    9\n",
      "5    9\n",
      "6    9\n",
      "7    9\n",
      "dtype: int64\n",
      "0   -7\n",
      "1   -5\n",
      "2   -3\n",
      "3   -1\n",
      "4    1\n",
      "5    3\n",
      "6    5\n",
      "7    7\n",
      "dtype: int64\n",
      "0     8\n",
      "1    14\n",
      "2    18\n",
      "3    20\n",
      "4    20\n",
      "5    18\n",
      "6    14\n",
      "7     8\n",
      "dtype: int64\n",
      "0    0.125000\n",
      "1    0.285714\n",
      "2    0.500000\n",
      "3    0.800000\n",
      "4    1.250000\n",
      "5    2.000000\n",
      "6    3.500000\n",
      "7    8.000000\n",
      "dtype: float64\n"
     ]
    }
   ],
   "source": [
    "ser1 = pd.Series([1,2,3,4,5,6,7,8])\n",
    "ser2 = pd.Series([8,7,6,5,4,3,2,1])\n",
    "\n",
    "print(ser1 + ser2)\n",
    "print(ser1 - ser2)\n",
    "print(ser1 * ser2)\n",
    "print(ser1 / ser2)"
   ]
  },
  {
   "cell_type": "markdown",
   "id": "29f7b168",
   "metadata": {
    "id": "29f7b168"
   },
   "source": [
    "### 4. Write a program to convert all the string values to upper, lower cases in a given pandas series. Also find the length of the string values."
   ]
  },
  {
   "cell_type": "code",
   "execution_count": 5,
   "id": "fed29a18",
   "metadata": {
    "colab": {
     "base_uri": "https://localhost:8080/"
    },
    "id": "fed29a18",
    "outputId": "9a8c7647-d3ea-47e5-aa93-825485b6b0b3"
   },
   "outputs": [
    {
     "name": "stdout",
     "output_type": "stream",
     "text": [
      "0     TAYYAB\n",
      "1     ROSHAN\n",
      "2    SATHISH\n",
      "3     NEERAJ\n",
      "dtype: object\n",
      "0     tayyab\n",
      "1     roshan\n",
      "2    sathish\n",
      "3     neeraj\n",
      "dtype: object\n",
      "0    6\n",
      "1    6\n",
      "2    7\n",
      "3    6\n",
      "dtype: int64\n"
     ]
    }
   ],
   "source": [
    "ser = pd.Series([\"Tayyab\",\"Roshan\",\"Sathish\",\"Neeraj\"])\n",
    "\n",
    "print(ser.str.upper())\n",
    "print(ser.str.lower())\n",
    "print(ser.str.len())"
   ]
  },
  {
   "cell_type": "markdown",
   "id": "61eb1f92",
   "metadata": {
    "id": "61eb1f92"
   },
   "source": [
    "### 5. Write a program to remove white spaces, left sided white spaces and right sided white spaces of the string values of a given pandas series"
   ]
  },
  {
   "cell_type": "code",
   "execution_count": 6,
   "id": "41ecb77c",
   "metadata": {
    "colab": {
     "base_uri": "https://localhost:8080/"
    },
    "id": "41ecb77c",
    "outputId": "1bd481a6-6c4e-492b-85fa-fe2e832b2e7f"
   },
   "outputs": [
    {
     "name": "stdout",
     "output_type": "stream",
     "text": [
      "0     Tayyab \n",
      "1     Roshan \n",
      "2     Sathish\n",
      "3     Neeraj \n",
      "dtype: object\n",
      "0     Tayyab\n",
      "1     Roshan\n",
      "2    Sathish\n",
      "3     Neeraj\n",
      "dtype: object\n",
      "0    Tayyab \n",
      "1    Roshan \n",
      "2    Sathish\n",
      "3    Neeraj \n",
      "dtype: object\n",
      "0      Tayyab\n",
      "1      Roshan\n",
      "2     Sathish\n",
      "3      Neeraj\n",
      "dtype: object\n"
     ]
    }
   ],
   "source": [
    "ser = pd.Series([\" Tayyab \",\"Roshan \",\" Sathish\",\" Neeraj \"])\n",
    "\n",
    "print(ser)\n",
    "print(ser.str.strip())\n",
    "print(ser.str.lstrip())\n",
    "print(ser.str.rstrip())"
   ]
  },
  {
   "cell_type": "markdown",
   "id": "a83fdcd5",
   "metadata": {
    "id": "a83fdcd5"
   },
   "source": [
    "### 6. Write a program to create and display a DataFrame consisting of Student Name, Father Name , Mobile Number as columns and Register Number as index."
   ]
  },
  {
   "cell_type": "code",
   "execution_count": 7,
   "id": "026bdeaa",
   "metadata": {
    "colab": {
     "base_uri": "https://localhost:8080/"
    },
    "id": "026bdeaa",
    "outputId": "33a1d4a3-89b3-43e4-8b55-c078f8da801d"
   },
   "outputs": [
    {
     "name": "stdout",
     "output_type": "stream",
     "text": [
      "          Student Name  Father Name Mobile Number\n",
      "Regd. No.                                        \n",
      "Y21CS172        Tayyab   Tayyab Sr.    9032301700\n",
      "Y21CS185        Neeraj   Neeraj Sr.    6309321875\n",
      "Y21CS160        Roshan   Roshan Sr.    9848032919\n",
      "Y21CS197       Sathish  Sathish Sr.    8759623415\n"
     ]
    }
   ],
   "source": [
    "data = {\"Regd. No.\": [\"Y21CS172\", \"Y21CS185\", \"Y21CS160\", \"Y21CS197\"],\n",
    "        \"Student Name\": [\"Tayyab\", \"Neeraj\", \"Roshan\", \"Sathish\"],\n",
    "        \"Father Name\": [\"Tayyab Sr.\", \"Neeraj Sr.\", \"Roshan Sr.\", \"Sathish Sr.\"],\n",
    "        \"Mobile Number\": [\"9032301700\", \"6309321875\", \"9848032919\", \"8759623415\"]\n",
    "       }\n",
    "\n",
    "df = pd.DataFrame(data)\n",
    "\n",
    "df.set_index(\"Regd. No.\", inplace=True)\n",
    "\n",
    "print(df)"
   ]
  },
  {
   "cell_type": "markdown",
   "id": "8878ab6a",
   "metadata": {
    "id": "8878ab6a"
   },
   "source": [
    "### 7. Write a program to get list from DataFrame column headers."
   ]
  },
  {
   "cell_type": "code",
   "execution_count": 8,
   "id": "97ede687",
   "metadata": {
    "colab": {
     "base_uri": "https://localhost:8080/"
    },
    "id": "97ede687",
    "outputId": "e275c11e-a54b-43ea-d07d-0eafef96fc39"
   },
   "outputs": [
    {
     "name": "stdout",
     "output_type": "stream",
     "text": [
      "Index(['Regd. No.', 'Name', 'Age'], dtype='object')\n"
     ]
    }
   ],
   "source": [
    "data = {\"Regd. No.\": [\"Y21cs172\", \"Y21CS185\", \"Y21CS160\", \"Y21CS197\"],\n",
    "        \"Name\": [\"Tayyab\", \"Neeraj\", \"Roshan\", \"Sathish\"],\n",
    "        \"Age\": [19, 19, 18, 18]\n",
    "       }\n",
    "\n",
    "df = pd.DataFrame(data)\n",
    "\n",
    "column_headers = df.columns\n",
    "\n",
    "print(column_headers)"
   ]
  },
  {
   "cell_type": "markdown",
   "id": "6cff143f",
   "metadata": {
    "id": "6cff143f"
   },
   "source": [
    "### 8. Write a program to change the name of the student."
   ]
  },
  {
   "cell_type": "code",
   "execution_count": 9,
   "id": "9f7877a4",
   "metadata": {
    "colab": {
     "base_uri": "https://localhost:8080/"
    },
    "id": "9f7877a4",
    "outputId": "be5ddf7c-d8bd-49c7-d8ef-fee9870c244f"
   },
   "outputs": [
    {
     "name": "stdout",
     "output_type": "stream",
     "text": [
      "  Regd. No.     Name\n",
      "0  Y21cs172   Tayyab\n",
      "1  Y21CS185   Neeraj\n",
      "2  Y21CS160   Roshan\n",
      "3  Y21CS164  Shreyas\n"
     ]
    }
   ],
   "source": [
    "data = {\"Regd. No.\": [\"Y21cs172\", \"Y21CS185\", \"Y21CS160\", \"Y21CS164\"],\n",
    "        \"Name\": [\"Tayyab\", \"Neeraj\", \"Roshan\", \"Sathish\"]\n",
    "       }\n",
    "\n",
    "df = pd.DataFrame(data)\n",
    "\n",
    "df[\"Name\"] = df[\"Name\"].replace(\"Sathish\", \"Shreyas\")\n",
    "\n",
    "print(df)"
   ]
  },
  {
   "cell_type": "markdown",
   "id": "6107f28b",
   "metadata": {
    "id": "6107f28b"
   },
   "source": [
    "### 9. Write a program to insert a new column “grade” in existing DataFrame"
   ]
  },
  {
   "cell_type": "code",
   "execution_count": 10,
   "id": "27739be3",
   "metadata": {
    "colab": {
     "base_uri": "https://localhost:8080/"
    },
    "id": "27739be3",
    "outputId": "0c08da79-77e7-4d10-c601-13c9bdbd8e68"
   },
   "outputs": [
    {
     "name": "stdout",
     "output_type": "stream",
     "text": [
      "  Regd. No.     Name Grade\n",
      "0  Y21cs172   Tayyab     A\n",
      "1  Y21CS185   Neeraj     B\n",
      "2  Y21CS160   Roshan    A+\n",
      "3  Y21CS197  Sathish     B\n"
     ]
    }
   ],
   "source": [
    "data = {\"Regd. No.\": [\"Y21cs172\", \"Y21CS185\", \"Y21CS160\", \"Y21CS197\"],\n",
    "        \"Name\": [\"Tayyab\", \"Neeraj\", \"Roshan\", \"Sathish\"]\n",
    "       }\n",
    "\n",
    "df = pd.DataFrame(data)\n",
    "\n",
    "df.insert(2, 'Grade', ['A', 'B', 'A+', 'B'])\n",
    "\n",
    "print(df)"
   ]
  },
  {
   "cell_type": "markdown",
   "id": "aaded844",
   "metadata": {
    "id": "aaded844"
   },
   "source": [
    "### 10. Write a program to create and display a DataFrame from a specified dictionary data which has the index labels."
   ]
  },
  {
   "cell_type": "code",
   "execution_count": 11,
   "id": "bfa86f9b",
   "metadata": {
    "colab": {
     "base_uri": "https://localhost:8080/"
    },
    "id": "bfa86f9b",
    "outputId": "8db542f0-11b4-4c5c-8832-592fe1aad7a8"
   },
   "outputs": [
    {
     "name": "stdout",
     "output_type": "stream",
     "text": [
      "      Name  ATFL  CN  DAA\n",
      "1   Tayyab    87  89   78\n",
      "2   Neeraj    92  93   85\n",
      "3   Roshan    94  95   89\n",
      "4  Sathish    90  87   80\n"
     ]
    }
   ],
   "source": [
    "data = {\"Name\": [\"Tayyab\", \"Neeraj\", \"Roshan\", \"Sathish\"],\n",
    "        \"ATFL\": [87, 92, 94, 90],\n",
    "        \"CN\": [89, 93, 95, 87],\n",
    "        \"DAA\": [78, 85, 89, 80]\n",
    "       }\n",
    "\n",
    "df = pd.DataFrame(data)\n",
    "\n",
    "df.index = [1, 2, 3, 4]\n",
    "\n",
    "print(df)"
   ]
  }
 ],
 "metadata": {
  "colab": {
   "include_colab_link": true,
   "provenance": []
  },
  "kernelspec": {
   "display_name": "Python 3 (ipykernel)",
   "language": "python",
   "name": "python3"
  },
  "language_info": {
   "codemirror_mode": {
    "name": "ipython",
    "version": 3
   },
   "file_extension": ".py",
   "mimetype": "text/x-python",
   "name": "python",
   "nbconvert_exporter": "python",
   "pygments_lexer": "ipython3",
   "version": "3.10.9"
  }
 },
 "nbformat": 4,
 "nbformat_minor": 5
}
