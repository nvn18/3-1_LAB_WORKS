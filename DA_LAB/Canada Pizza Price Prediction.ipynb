{
 "cells": [
  {
   "cell_type": "markdown",
   "id": "8d6f3c0c",
   "metadata": {
    "id": "8d6f3c0c"
   },
   "source": [
    "# Canada Pizza Price Prediction"
   ]
  },
  {
   "cell_type": "code",
   "execution_count": 24,
   "id": "e5771f59",
   "metadata": {
    "id": "e5771f59",
    "outputId": "b434848c-a51b-49cf-b4f7-000d6611abfb"
   },
   "outputs": [
    {
     "data": {
      "text/html": [
       "<div>\n",
       "<style scoped>\n",
       "    .dataframe tbody tr th:only-of-type {\n",
       "        vertical-align: middle;\n",
       "    }\n",
       "\n",
       "    .dataframe tbody tr th {\n",
       "        vertical-align: top;\n",
       "    }\n",
       "\n",
       "    .dataframe thead th {\n",
       "        text-align: right;\n",
       "    }\n",
       "</style>\n",
       "<table border=\"1\" class=\"dataframe\">\n",
       "  <thead>\n",
       "    <tr style=\"text-align: right;\">\n",
       "      <th></th>\n",
       "      <th>company</th>\n",
       "      <th>price_cad</th>\n",
       "      <th>diameter</th>\n",
       "      <th>topping</th>\n",
       "      <th>variant</th>\n",
       "      <th>size</th>\n",
       "      <th>extra_sauce</th>\n",
       "      <th>extra_cheese</th>\n",
       "      <th>extra_mushrooms</th>\n",
       "    </tr>\n",
       "  </thead>\n",
       "  <tbody>\n",
       "    <tr>\n",
       "      <th>0</th>\n",
       "      <td>A</td>\n",
       "      <td>$29</td>\n",
       "      <td>22 inch</td>\n",
       "      <td>chicken</td>\n",
       "      <td>double_signature</td>\n",
       "      <td>jumbo</td>\n",
       "      <td>yes</td>\n",
       "      <td>yes</td>\n",
       "      <td>no</td>\n",
       "    </tr>\n",
       "    <tr>\n",
       "      <th>1</th>\n",
       "      <td>A</td>\n",
       "      <td>$25</td>\n",
       "      <td>20 inch</td>\n",
       "      <td>papperoni</td>\n",
       "      <td>double_signature</td>\n",
       "      <td>jumbo</td>\n",
       "      <td>yes</td>\n",
       "      <td>yes</td>\n",
       "      <td>no</td>\n",
       "    </tr>\n",
       "    <tr>\n",
       "      <th>2</th>\n",
       "      <td>A</td>\n",
       "      <td>$19</td>\n",
       "      <td>16 inch</td>\n",
       "      <td>mushrooms</td>\n",
       "      <td>double_signature</td>\n",
       "      <td>reguler</td>\n",
       "      <td>yes</td>\n",
       "      <td>yes</td>\n",
       "      <td>yes</td>\n",
       "    </tr>\n",
       "    <tr>\n",
       "      <th>3</th>\n",
       "      <td>A</td>\n",
       "      <td>$22</td>\n",
       "      <td>14 inch</td>\n",
       "      <td>smoked_beef</td>\n",
       "      <td>double_signature</td>\n",
       "      <td>reguler</td>\n",
       "      <td>yes</td>\n",
       "      <td>no</td>\n",
       "      <td>yes</td>\n",
       "    </tr>\n",
       "    <tr>\n",
       "      <th>4</th>\n",
       "      <td>A</td>\n",
       "      <td>$30</td>\n",
       "      <td>18 inch</td>\n",
       "      <td>mozzarella</td>\n",
       "      <td>double_signature</td>\n",
       "      <td>jumbo</td>\n",
       "      <td>yes</td>\n",
       "      <td>no</td>\n",
       "      <td>yes</td>\n",
       "    </tr>\n",
       "    <tr>\n",
       "      <th>...</th>\n",
       "      <td>...</td>\n",
       "      <td>...</td>\n",
       "      <td>...</td>\n",
       "      <td>...</td>\n",
       "      <td>...</td>\n",
       "      <td>...</td>\n",
       "      <td>...</td>\n",
       "      <td>...</td>\n",
       "      <td>...</td>\n",
       "    </tr>\n",
       "    <tr>\n",
       "      <th>124</th>\n",
       "      <td>E</td>\n",
       "      <td>$11</td>\n",
       "      <td>8.5 inch</td>\n",
       "      <td>tuna</td>\n",
       "      <td>spicy tuna</td>\n",
       "      <td>small</td>\n",
       "      <td>yes</td>\n",
       "      <td>yes</td>\n",
       "      <td>yes</td>\n",
       "    </tr>\n",
       "    <tr>\n",
       "      <th>125</th>\n",
       "      <td>E</td>\n",
       "      <td>$14</td>\n",
       "      <td>12 inch</td>\n",
       "      <td>tuna</td>\n",
       "      <td>spicy tuna</td>\n",
       "      <td>medium</td>\n",
       "      <td>yes</td>\n",
       "      <td>yes</td>\n",
       "      <td>yes</td>\n",
       "    </tr>\n",
       "    <tr>\n",
       "      <th>126</th>\n",
       "      <td>E</td>\n",
       "      <td>$17</td>\n",
       "      <td>14 inch</td>\n",
       "      <td>tuna</td>\n",
       "      <td>spicy tuna</td>\n",
       "      <td>large</td>\n",
       "      <td>yes</td>\n",
       "      <td>yes</td>\n",
       "      <td>yes</td>\n",
       "    </tr>\n",
       "    <tr>\n",
       "      <th>127</th>\n",
       "      <td>E</td>\n",
       "      <td>$12</td>\n",
       "      <td>8.5 inch</td>\n",
       "      <td>meat</td>\n",
       "      <td>BBQ_meat_fiesta</td>\n",
       "      <td>small</td>\n",
       "      <td>yes</td>\n",
       "      <td>no</td>\n",
       "      <td>yes</td>\n",
       "    </tr>\n",
       "    <tr>\n",
       "      <th>128</th>\n",
       "      <td>E</td>\n",
       "      <td>$15</td>\n",
       "      <td>12 inch</td>\n",
       "      <td>meat</td>\n",
       "      <td>BBQ_meat_fiesta</td>\n",
       "      <td>medium</td>\n",
       "      <td>no</td>\n",
       "      <td>no</td>\n",
       "      <td>yes</td>\n",
       "    </tr>\n",
       "  </tbody>\n",
       "</table>\n",
       "<p>129 rows × 9 columns</p>\n",
       "</div>"
      ],
      "text/plain": [
       "    company price_cad  diameter      topping           variant     size  \\\n",
       "0         A      $29    22 inch      chicken  double_signature    jumbo   \n",
       "1         A      $25    20 inch    papperoni  double_signature    jumbo   \n",
       "2         A      $19    16 inch    mushrooms  double_signature  reguler   \n",
       "3         A      $22    14 inch  smoked_beef  double_signature  reguler   \n",
       "4         A      $30    18 inch   mozzarella  double_signature    jumbo   \n",
       "..      ...       ...       ...          ...               ...      ...   \n",
       "124       E      $11   8.5 inch         tuna        spicy tuna    small   \n",
       "125       E      $14    12 inch         tuna        spicy tuna   medium   \n",
       "126       E      $17    14 inch         tuna        spicy tuna    large   \n",
       "127       E      $12   8.5 inch         meat   BBQ_meat_fiesta    small   \n",
       "128       E      $15    12 inch         meat   BBQ_meat_fiesta   medium   \n",
       "\n",
       "    extra_sauce extra_cheese extra_mushrooms  \n",
       "0           yes          yes              no  \n",
       "1           yes          yes              no  \n",
       "2           yes          yes             yes  \n",
       "3           yes           no             yes  \n",
       "4           yes           no             yes  \n",
       "..          ...          ...             ...  \n",
       "124         yes          yes             yes  \n",
       "125         yes          yes             yes  \n",
       "126         yes          yes             yes  \n",
       "127         yes           no             yes  \n",
       "128          no           no             yes  \n",
       "\n",
       "[129 rows x 9 columns]"
      ]
     },
     "metadata": {},
     "output_type": "display_data"
    }
   ],
   "source": [
    "import pandas as pd\n",
    "\n",
    "data = pd.read_csv(\"pizza_price_prediction.csv\")\n",
    "\n",
    "display(data)"
   ]
  },
  {
   "cell_type": "markdown",
   "id": "02af4a71",
   "metadata": {
    "id": "02af4a71"
   },
   "source": [
    "### a. Count the number of null values in the pizza dataset and replace null values with average of the concerned columns."
   ]
  },
  {
   "cell_type": "code",
   "execution_count": 3,
   "id": "9a919a09",
   "metadata": {
    "id": "9a919a09",
    "outputId": "c7229a76-be26-4a4e-ae78-87e05f162cb7"
   },
   "outputs": [
    {
     "name": "stdout",
     "output_type": "stream",
     "text": [
      "Total Null Values in the Dataset =  0\n"
     ]
    }
   ],
   "source": [
    "print(\"Total Null Values in the Dataset = \",data.isnull().sum().sum())\n",
    "\n",
    "# print(data.isnull().sum())\n",
    "\n",
    "# display(data.fillna(data.mean()))"
   ]
  },
  {
   "cell_type": "markdown",
   "id": "385fb4a0",
   "metadata": {
    "id": "385fb4a0"
   },
   "source": [
    "### b. Calculate average price of pizza prepared by each company."
   ]
  },
  {
   "cell_type": "code",
   "execution_count": 4,
   "id": "4ef51473",
   "metadata": {
    "id": "4ef51473",
    "outputId": "542c72ef-23f6-4ffc-d9d5-4296e897e91c",
    "scrolled": true
   },
   "outputs": [
    {
     "name": "stdout",
     "output_type": "stream",
     "text": [
      "company\n",
      "A    19.600\n",
      "B    14.375\n",
      "C    13.800\n",
      "D    16.600\n",
      "E    14.400\n",
      "Name: price_card, dtype: float64\n"
     ]
    }
   ],
   "source": [
    "data[\"price_card\"] = [int(i[1:]) for i in data[\"price_cad\"]]\n",
    "\n",
    "print(data.groupby(\"company\")[\"price_card\"].mean())"
   ]
  },
  {
   "cell_type": "markdown",
   "id": "c83b3a13",
   "metadata": {
    "id": "c83b3a13"
   },
   "source": [
    "### c. Find the companies, who prepared pizzas with different variants with same diameter."
   ]
  },
  {
   "cell_type": "code",
   "execution_count": 5,
   "id": "9846ea33",
   "metadata": {},
   "outputs": [
    {
     "name": "stdout",
     "output_type": "stream",
     "text": [
      "['A' 'B' 'C' 'D' 'E']\n"
     ]
    }
   ],
   "source": [
    "d = data.groupby(['company', 'diameter']).filter(lambda x: x['variant'].nunique() > 1)\n",
    "\n",
    "print(d['company'].unique())"
   ]
  },
  {
   "cell_type": "markdown",
   "id": "cc7f10a3",
   "metadata": {
    "id": "cc7f10a3"
   },
   "source": [
    "### d. Which company has more pizzas? Show the result with graph."
   ]
  },
  {
   "cell_type": "code",
   "execution_count": 6,
   "id": "a71233cf",
   "metadata": {},
   "outputs": [
    {
     "name": "stdout",
     "output_type": "stream",
     "text": [
      "Company C has more pizzas.\n"
     ]
    },
    {
     "data": {
      "image/png": "[encoded data removed]",
      "text/plain": [
       "<Figure size 640x480 with 1 Axes>"
      ]
     },
     "metadata": {},
     "output_type": "display_data"
    }
   ],
   "source": [
    "import matplotlib.pyplot as plt\n",
    "\n",
    "pizza_count = data[\"company\"].value_counts()\n",
    "\n",
    "print(f\"Company {pizza_count.index[0]} has more pizzas.\")\n",
    "\n",
    "pizza_count.plot(kind='bar', color='skyblue', xlabel=\"Company\", ylabel=\"Number of Pizzas\", title=\"Number of Pizzas by Company\")\n",
    "plt.xticks(rotation=0)\n",
    "plt.show()"
   ]
  },
  {
   "cell_type": "markdown",
   "id": "1e7b74b8",
   "metadata": {
    "id": "1e7b74b8"
   },
   "source": [
    "### e. Check whether the pizza data set contains null value or not. Count the no. of null values in the pizza dataset. Find the number of missing data points per column."
   ]
  },
  {
   "cell_type": "code",
   "execution_count": 7,
   "id": "a9d73425",
   "metadata": {},
   "outputs": [
    {
     "name": "stdout",
     "output_type": "stream",
     "text": [
      "Total number of null values in the pizza dataset = 0.\n",
      "company            0\n",
      "price_cad          0\n",
      "diameter           0\n",
      "topping            0\n",
      "variant            0\n",
      "size               0\n",
      "extra_sauce        0\n",
      "extra_cheese       0\n",
      "extra_mushrooms    0\n",
      "price_card         0\n",
      "dtype: int64\n"
     ]
    }
   ],
   "source": [
    "null_values = data.isnull().sum().sum()\n",
    "\n",
    "if null_values > 0:\n",
    "    print(\"The dataset contains null values.\")\n",
    "    \n",
    "print(f\"Total number of null values in the pizza dataset = {null_values}.\")\n",
    "\n",
    "print(data.isnull().sum())"
   ]
  },
  {
   "cell_type": "markdown",
   "id": "0055546d",
   "metadata": {
    "id": "0055546d"
   },
   "source": [
    "### f. Rename the column price_cad as price."
   ]
  },
  {
   "cell_type": "code",
   "execution_count": 8,
   "id": "694e7c3d",
   "metadata": {},
   "outputs": [],
   "source": [
    "data.rename(columns={\"price_cad\":\"price\"}, inplace=True)"
   ]
  },
  {
   "cell_type": "markdown",
   "id": "2952d715",
   "metadata": {
    "id": "2952d715"
   },
   "source": [
    "### g. Identify the number of companies in each category."
   ]
  },
  {
   "cell_type": "code",
   "execution_count": 9,
   "id": "e5e5635a",
   "metadata": {},
   "outputs": [
    {
     "name": "stdout",
     "output_type": "stream",
     "text": [
      "variant\n",
      "BBQ_meat_fiesta      2\n",
      "BBQ_sausage          1\n",
      "american_classic     1\n",
      "american_favorite    1\n",
      "classic              3\n",
      "crunchy              3\n",
      "double_decker        3\n",
      "double_mix           2\n",
      "double_signature     1\n",
      "extravaganza         1\n",
      "gournet_greek        1\n",
      "italian_veggie       1\n",
      "meat_eater           1\n",
      "meat_lovers          2\n",
      "neptune_tuna         1\n",
      "new_york             3\n",
      "spicy tuna           1\n",
      "spicy_tuna           1\n",
      "super_supreme        1\n",
      "thai_veggie          1\n",
      "Name: company, dtype: int64\n"
     ]
    }
   ],
   "source": [
    "print(data.groupby(\"variant\")[\"company\"].nunique())"
   ]
  },
  {
   "cell_type": "markdown",
   "id": "c87cd1d9",
   "metadata": {
    "id": "c87cd1d9"
   },
   "source": [
    "### h. Identify which type of pizza is more expensive."
   ]
  },
  {
   "cell_type": "code",
   "execution_count": 10,
   "id": "0aa9d862",
   "metadata": {},
   "outputs": [
    {
     "data": {
      "text/plain": [
       "company                      E\n",
       "price                     $30 \n",
       "diameter              8.5 inch\n",
       "topping             vegetables\n",
       "variant            thai_veggie\n",
       "size                     small\n",
       "extra_sauce                yes\n",
       "extra_cheese               yes\n",
       "extra_mushrooms            yes\n",
       "price_card                  30\n",
       "dtype: object"
      ]
     },
     "execution_count": 10,
     "metadata": {},
     "output_type": "execute_result"
    }
   ],
   "source": [
    "data.max()"
   ]
  },
  {
   "cell_type": "markdown",
   "id": "e21cd92e",
   "metadata": {
    "id": "e21cd92e"
   },
   "source": [
    "### i. Find diameter of jumbo size pizza."
   ]
  },
  {
   "cell_type": "code",
   "execution_count": 11,
   "id": "5109d718",
   "metadata": {},
   "outputs": [
    {
     "name": "stdout",
     "output_type": "stream",
     "text": [
      "0       22 inch\n",
      "1       20 inch\n",
      "4       18 inch\n",
      "5     18.5 inch\n",
      "6       16 inch\n",
      "10    18.5 inch\n",
      "11      16 inch\n",
      "15    18.5 inch\n",
      "16      16 inch\n",
      "20      22 inch\n",
      "21    18.5 inch\n",
      "79    18.5 inch\n",
      "80      16 inch\n",
      "84      22 inch\n",
      "85    18.5 inch\n",
      "Name: diameter, dtype: object\n"
     ]
    }
   ],
   "source": [
    "print(data[data[\"size\"] == \"jumbo\"][\"diameter\"])"
   ]
  },
  {
   "cell_type": "markdown",
   "id": "b5cfe985",
   "metadata": {
    "id": "b5cfe985"
   },
   "source": [
    "### j. Any jumbo pizza with diameter less than 16 exists, remove such rows."
   ]
  },
  {
   "cell_type": "code",
   "execution_count": 12,
   "id": "74f1e722",
   "metadata": {},
   "outputs": [],
   "source": [
    "data[\"new_diameter\"] = [float(i[:-5]) for i in data[\"diameter\"]]\n",
    "\n",
    "data = data[~((data[\"size\"]==\"jumbo\") & (data[\"new_diameter\"]<16))]\n",
    "\n",
    "#data.drop(data.query(\"size=='jumbo' & new_diameter<16.0\").index, inplace=True)"
   ]
  },
  {
   "cell_type": "markdown",
   "id": "f71bab1d",
   "metadata": {
    "id": "f71bab1d"
   },
   "source": [
    "### k. Calculate average price of a pizza prepared by company A."
   ]
  },
  {
   "cell_type": "code",
   "execution_count": 13,
   "id": "d8d6d1aa",
   "metadata": {},
   "outputs": [
    {
     "name": "stdout",
     "output_type": "stream",
     "text": [
      "Average Price of pizza by company A = 19.6\n"
     ]
    }
   ],
   "source": [
    "print(\"Average Price of pizza by company A =\",data[data['company'] == 'A']['price_card'].mean())"
   ]
  },
  {
   "cell_type": "markdown",
   "id": "2f2d4b45",
   "metadata": {
    "id": "2f2d4b45"
   },
   "source": [
    "### l. Find the mean of the diameter and price of pizzas prepared by company C."
   ]
  },
  {
   "cell_type": "code",
   "execution_count": 14,
   "id": "bad34129",
   "metadata": {},
   "outputs": [
    {
     "name": "stdout",
     "output_type": "stream",
     "text": [
      "Average Price of pizza by company C = 13.8\n",
      "Average Diameter of pizza by company C = 11.5\n"
     ]
    }
   ],
   "source": [
    "print(\"Average Price of pizza by company C =\",data[data['company'] == 'C']['price_card'].mean())\n",
    "print(\"Average Diameter of pizza by company C =\",data[data['company'] == 'C']['new_diameter'].mean())\n",
    "\n",
    "#print(data[data['company'] == 'C'].mean(numeric_only=True))"
   ]
  },
  {
   "cell_type": "markdown",
   "id": "179fac59",
   "metadata": {},
   "source": [
    "# M.Find the companies, who prepared pizzas with different variants with same diameter."
   ]
  },
  {
   "cell_type": "code",
   "execution_count": 18,
   "id": "b30a2f22",
   "metadata": {},
   "outputs": [
    {
     "name": "stdout",
     "output_type": "stream",
     "text": [
      "   company   diameter  variant\n",
      "0        A    12 inch        3\n",
      "1        A    14 inch        2\n",
      "2        A    16 inch        4\n",
      "3        A  18.5 inch        4\n",
      "4        A    22 inch        2\n",
      "5        A     8 inch        3\n",
      "6        B    12 inch        3\n",
      "7        C    12 inch       10\n",
      "8        C    14 inch       10\n",
      "9        C   8.5 inch       10\n",
      "10       D    12 inch        4\n",
      "11       D    14 inch        2\n",
      "12       D  18.5 inch        2\n",
      "13       E    12 inch        5\n",
      "14       E    14 inch        2\n",
      "15       E   8.5 inch        3\n"
     ]
    }
   ],
   "source": [
    "df = pd.DataFrame(data)\n",
    "\n",
    "result = df.groupby(['company', 'diameter'])['variant'].nunique()\n",
    "\n",
    "result = result[result > 1].reset_index()\n",
    "\n",
    "print(result)\n"
   ]
  },
  {
   "cell_type": "markdown",
   "id": "dc0a0ab8",
   "metadata": {
    "id": "dc0a0ab8"
   },
   "source": [
    "### n. Find the pizza variant with extra_mushrooms and topping with chicken."
   ]
  },
  {
   "cell_type": "code",
   "execution_count": 15,
   "id": "711c33e1",
   "metadata": {},
   "outputs": [
    {
     "name": "stdout",
     "output_type": "stream",
     "text": [
      "['meat_lovers' 'double_mix' 'new_york' 'double_decker' 'classic' 'crunchy']\n"
     ]
    }
   ],
   "source": [
    "print(data.query(\"topping=='chicken' & extra_mushrooms=='yes'\")[\"variant\"].unique())"
   ]
  },
  {
   "cell_type": "markdown",
   "id": "42a3c4ab",
   "metadata": {
    "id": "42a3c4ab"
   },
   "source": [
    "### O. What is the most expensive pizza in each company?"
   ]
  },
  {
   "cell_type": "code",
   "execution_count": 16,
   "id": "28d8435f",
   "metadata": {},
   "outputs": [
    {
     "data": {
      "text/html": [
       "<div>\n",
       "<style scoped>\n",
       "    .dataframe tbody tr th:only-of-type {\n",
       "        vertical-align: middle;\n",
       "    }\n",
       "\n",
       "    .dataframe tbody tr th {\n",
       "        vertical-align: top;\n",
       "    }\n",
       "\n",
       "    .dataframe thead th {\n",
       "        text-align: right;\n",
       "    }\n",
       "</style>\n",
       "<table border=\"1\" class=\"dataframe\">\n",
       "  <thead>\n",
       "    <tr style=\"text-align: right;\">\n",
       "      <th></th>\n",
       "      <th>company</th>\n",
       "      <th>price</th>\n",
       "      <th>diameter</th>\n",
       "      <th>topping</th>\n",
       "      <th>variant</th>\n",
       "      <th>size</th>\n",
       "      <th>extra_sauce</th>\n",
       "      <th>extra_cheese</th>\n",
       "      <th>extra_mushrooms</th>\n",
       "      <th>price_card</th>\n",
       "      <th>new_diameter</th>\n",
       "    </tr>\n",
       "  </thead>\n",
       "  <tbody>\n",
       "    <tr>\n",
       "      <th>4</th>\n",
       "      <td>A</td>\n",
       "      <td>$30</td>\n",
       "      <td>18 inch</td>\n",
       "      <td>mozzarella</td>\n",
       "      <td>double_signature</td>\n",
       "      <td>jumbo</td>\n",
       "      <td>yes</td>\n",
       "      <td>no</td>\n",
       "      <td>yes</td>\n",
       "      <td>30</td>\n",
       "      <td>18.0</td>\n",
       "    </tr>\n",
       "    <tr>\n",
       "      <th>36</th>\n",
       "      <td>B</td>\n",
       "      <td>$19</td>\n",
       "      <td>12 inch</td>\n",
       "      <td>smoked_beef</td>\n",
       "      <td>double_decker</td>\n",
       "      <td>medium</td>\n",
       "      <td>yes</td>\n",
       "      <td>yes</td>\n",
       "      <td>yes</td>\n",
       "      <td>19</td>\n",
       "      <td>12.0</td>\n",
       "    </tr>\n",
       "    <tr>\n",
       "      <th>51</th>\n",
       "      <td>C</td>\n",
       "      <td>$17</td>\n",
       "      <td>14 inch</td>\n",
       "      <td>tuna</td>\n",
       "      <td>spicy_tuna</td>\n",
       "      <td>large</td>\n",
       "      <td>yes</td>\n",
       "      <td>yes</td>\n",
       "      <td>yes</td>\n",
       "      <td>17</td>\n",
       "      <td>14.0</td>\n",
       "    </tr>\n",
       "    <tr>\n",
       "      <th>84</th>\n",
       "      <td>D</td>\n",
       "      <td>$28</td>\n",
       "      <td>22 inch</td>\n",
       "      <td>chicken</td>\n",
       "      <td>double_mix</td>\n",
       "      <td>jumbo</td>\n",
       "      <td>yes</td>\n",
       "      <td>yes</td>\n",
       "      <td>yes</td>\n",
       "      <td>28</td>\n",
       "      <td>22.0</td>\n",
       "    </tr>\n",
       "    <tr>\n",
       "      <th>111</th>\n",
       "      <td>E</td>\n",
       "      <td>$19</td>\n",
       "      <td>12 inch</td>\n",
       "      <td>smoked_beef</td>\n",
       "      <td>double_decker</td>\n",
       "      <td>medium</td>\n",
       "      <td>yes</td>\n",
       "      <td>yes</td>\n",
       "      <td>yes</td>\n",
       "      <td>19</td>\n",
       "      <td>12.0</td>\n",
       "    </tr>\n",
       "  </tbody>\n",
       "</table>\n",
       "</div>"
      ],
      "text/plain": [
       "    company price diameter      topping           variant    size extra_sauce  \\\n",
       "4         A  $30   18 inch   mozzarella  double_signature   jumbo         yes   \n",
       "36        B  $19   12 inch  smoked_beef     double_decker  medium         yes   \n",
       "51        C  $17   14 inch         tuna        spicy_tuna   large         yes   \n",
       "84        D  $28   22 inch      chicken        double_mix   jumbo         yes   \n",
       "111       E  $19   12 inch  smoked_beef     double_decker  medium         yes   \n",
       "\n",
       "    extra_cheese extra_mushrooms  price_card  new_diameter  \n",
       "4             no             yes          30          18.0  \n",
       "36           yes             yes          19          12.0  \n",
       "51           yes             yes          17          14.0  \n",
       "84           yes             yes          28          22.0  \n",
       "111          yes             yes          19          12.0  "
      ]
     },
     "metadata": {},
     "output_type": "display_data"
    }
   ],
   "source": [
    "display(data.loc[data.groupby('company')['price_card'].idxmax()])"
   ]
  },
  {
   "cell_type": "markdown",
   "id": "9024a216",
   "metadata": {},
   "source": [
    "# p. Which company has more pizzas on the menu? Show the result with graph."
   ]
  },
  {
   "cell_type": "code",
   "execution_count": 22,
   "id": "91bc5def",
   "metadata": {},
   "outputs": [
    {
     "data": {
      "image/png": "[encoded data removed]",
      "text/plain": [
       "<Figure size 640x480 with 1 Axes>"
      ]
     },
     "metadata": {},
     "output_type": "display_data"
    },
    {
     "name": "stdout",
     "output_type": "stream",
     "text": [
      "The company with the most pizzas on the menu is: C\n"
     ]
    }
   ],
   "source": [
    "\n",
    "import matplotlib.pyplot as plt\n",
    "\n",
    "\n",
    "df = pd.DataFrame(data)\n",
    "pizza_count = df['company'].value_counts()\n",
    "pizza_count.plot(kind='bar', color='skyblue', xlabel=\"Company\", ylabel=\"Number of Pizzas\", title=\"Number of Pizzas by Company\")\n",
    "plt.show()\n",
    "\n",
    "max_pizzas_company = pizza_count.idxmax()\n",
    "\n",
    "print(f\"The company with the most pizzas on the menu is: {max_pizzas_company}\")\n"
   ]
  },
  {
   "cell_type": "markdown",
   "id": "d98dd551",
   "metadata": {},
   "source": [
    "#  q.What is the average price of pizza in each company?"
   ]
  },
  {
   "cell_type": "code",
   "execution_count": 27,
   "id": "0e488459",
   "metadata": {},
   "outputs": [
    {
     "name": "stdout",
     "output_type": "stream",
     "text": [
      "company\n",
      "A    19.600\n",
      "B    14.375\n",
      "C    13.800\n",
      "D    16.600\n",
      "E    14.400\n",
      "Name: price_cad, dtype: float64\n"
     ]
    }
   ],
   "source": [
    "df = pd.DataFrame(data)\n",
    "\n",
    "# Removing the currency symbol and convert 'price_cad' to numeric\n",
    "df['price_cad'] = df['price_cad'].replace('[\\$,]', '', regex=True).astype(float)\n",
    "average_price = df.groupby('company')['price_cad'].mean()\n",
    "print(average_price)"
   ]
  }
 ],
 "metadata": {
  "colab": {
   "provenance": []
  },
  "kernelspec": {
   "display_name": "Python 3 (ipykernel)",
   "language": "python",
   "name": "python3"
  },
  "language_info": {
   "codemirror_mode": {
    "name": "ipython",
    "version": 3
   },
   "file_extension": ".py",
   "mimetype": "text/x-python",
   "name": "python",
   "nbconvert_exporter": "python",
   "pygments_lexer": "ipython3",
   "version": "3.10.9"
  }
 },
 "nbformat": 4,
 "nbformat_minor": 5
}
