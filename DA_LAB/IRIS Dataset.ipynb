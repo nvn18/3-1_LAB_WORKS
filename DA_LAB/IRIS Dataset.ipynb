{
 "cells": [
  {
   "cell_type": "markdown",
   "id": "949a9925",
   "metadata": {
    "id": "949a9925"
   },
   "source": [
    "# IRIS Dataset"
   ]
  },
  {
   "cell_type": "code",
   "execution_count": 41,
   "id": "32b7cc88",
   "metadata": {
    "executionInfo": {
     "elapsed": 419,
     "status": "ok",
     "timestamp": 1697735730327,
     "user": {
      "displayName": "Tayyab Tavvagunta",
      "userId": "05736559268130400023"
     },
     "user_tz": -330
    },
    "id": "32b7cc88"
   },
   "outputs": [],
   "source": [
    "import numpy as np\n",
    "import pandas as pd"
   ]
  },
  {
   "cell_type": "markdown",
   "id": "aca6269d",
   "metadata": {
    "id": "aca6269d"
   },
   "source": [
    "### 1. Load the data in the file iris.data in a 2-D array called iris."
   ]
  },
  {
   "cell_type": "code",
   "execution_count": 42,
   "id": "0399ab14",
   "metadata": {
    "colab": {
     "base_uri": "https://localhost:8080/"
    },
    "executionInfo": {
     "elapsed": 564,
     "status": "ok",
     "timestamp": 1697735733203,
     "user": {
      "displayName": "Tayyab Tavvagunta",
      "userId": "05736559268130400023"
     },
     "user_tz": -330
    },
    "id": "0399ab14",
    "outputId": "5dd281ad-956b-4b96-f5c4-f0b017be64c9",
    "scrolled": false
   },
   "outputs": [
    {
     "name": "stdout",
     "output_type": "stream",
     "text": [
      "[['5.1' '3.5' '1.4' '0.2' 'Iris-setosa']\n",
      " ['4.9' '3.0' '1.4' '0.2' 'Iris-setosa']\n",
      " ['4.7' '3.2' '1.3' '0.2' 'Iris-setosa']\n",
      " ['4.6' '3.1' '1.5' '0.2' 'Iris-setosa']\n",
      " ['5.0' '3.6' '1.4' '0.2' 'Iris-setosa']\n",
      " ['5.4' '3.9' '1.7' '0.4' 'Iris-setosa']\n",
      " ['4.6' '3.4' '1.4' '0.3' 'Iris-setosa']\n",
      " ['5.0' '3.4' '1.5' '0.2' 'Iris-setosa']\n",
      " ['4.4' '2.9' '1.4' '0.2' 'Iris-setosa']\n",
      " ['4.9' '3.1' '1.5' '0.1' 'Iris-setosa']\n",
      " ['5.4' '3.7' '1.5' '0.2' 'Iris-setosa']\n",
      " ['4.8' '3.4' '1.6' '0.2' 'Iris-setosa']\n",
      " ['4.8' '3.0' '1.4' '0.1' 'Iris-setosa']\n",
      " ['4.3' '3.0' '1.1' '0.1' 'Iris-setosa']\n",
      " ['5.8' '4.0' '1.2' '0.2' 'Iris-setosa']\n",
      " ['5.7' '4.4' '1.5' '0.4' 'Iris-setosa']\n",
      " ['5.4' '3.9' '1.3' '0.4' 'Iris-setosa']\n",
      " ['5.1' '3.5' '1.4' '0.3' 'Iris-setosa']\n",
      " ['5.7' '3.8' '1.7' '0.3' 'Iris-setosa']\n",
      " ['5.1' '3.8' '1.5' '0.3' 'Iris-setosa']\n",
      " ['5.4' '3.4' '1.7' '0.2' 'Iris-setosa']\n",
      " ['5.1' '3.7' '1.5' '0.4' 'Iris-setosa']\n",
      " ['4.6' '3.6' '1.0' '0.2' 'Iris-setosa']\n",
      " ['5.1' '3.3' '1.7' '0.5' 'Iris-setosa']\n",
      " ['4.8' '3.4' '1.9' '0.2' 'Iris-setosa']\n",
      " ['5.0' '3.0' '1.6' '0.2' 'Iris-setosa']\n",
      " ['5.0' '3.4' '1.6' '0.4' 'Iris-setosa']\n",
      " ['5.2' '3.5' '1.5' '0.2' 'Iris-setosa']\n",
      " ['5.2' '3.4' '1.4' '0.2' 'Iris-setosa']\n",
      " ['4.7' '3.2' '1.6' '0.2' 'Iris-setosa']\n",
      " ['4.8' '3.1' '1.6' '0.2' 'Iris-setosa']\n",
      " ['5.4' '3.4' '1.5' '0.4' 'Iris-setosa']\n",
      " ['5.2' '4.1' '1.5' '0.1' 'Iris-setosa']\n",
      " ['5.5' '4.2' '1.4' '0.2' 'Iris-setosa']\n",
      " ['4.9' '3.1' '1.5' '0.1' 'Iris-setosa']\n",
      " ['5.0' '3.2' '1.2' '0.2' 'Iris-setosa']\n",
      " ['5.5' '3.5' '1.3' '0.2' 'Iris-setosa']\n",
      " ['4.9' '3.1' '1.5' '0.1' 'Iris-setosa']\n",
      " ['4.4' '3.0' '1.3' '0.2' 'Iris-setosa']\n",
      " ['5.1' '3.4' '1.5' '0.2' 'Iris-setosa']\n",
      " ['5.0' '3.5' '1.3' '0.3' 'Iris-setosa']\n",
      " ['4.5' '2.3' '1.3' '0.3' 'Iris-setosa']\n",
      " ['4.4' '3.2' '1.3' '0.2' 'Iris-setosa']\n",
      " ['5.0' '3.5' '1.6' '0.6' 'Iris-setosa']\n",
      " ['5.1' '3.8' '1.9' '0.4' 'Iris-setosa']\n",
      " ['4.8' '3.0' '1.4' '0.3' 'Iris-setosa']\n",
      " ['5.1' '3.8' '1.6' '0.2' 'Iris-setosa']\n",
      " ['4.6' '3.2' '1.4' '0.2' 'Iris-setosa']\n",
      " ['5.3' '3.7' '1.5' '0.2' 'Iris-setosa']\n",
      " ['5.0' '3.3' '1.4' '0.2' 'Iris-setosa']\n",
      " ['7.0' '3.2' '4.7' '1.4' 'Iris-versicolor']\n",
      " ['6.4' '3.2' '4.5' '1.5' 'Iris-versicolor']\n",
      " ['6.9' '3.1' '4.9' '1.5' 'Iris-versicolor']\n",
      " ['5.5' '2.3' '4.0' '1.3' 'Iris-versicolor']\n",
      " ['6.5' '2.8' '4.6' '1.5' 'Iris-versicolor']\n",
      " ['5.7' '2.8' '4.5' '1.3' 'Iris-versicolor']\n",
      " ['6.3' '3.3' '4.7' '1.6' 'Iris-versicolor']\n",
      " ['4.9' '2.4' '3.3' '1.0' 'Iris-versicolor']\n",
      " ['6.6' '2.9' '4.6' '1.3' 'Iris-versicolor']\n",
      " ['5.2' '2.7' '3.9' '1.4' 'Iris-versicolor']\n",
      " ['5.0' '2.0' '3.5' '1.0' 'Iris-versicolor']\n",
      " ['5.9' '3.0' '4.2' '1.5' 'Iris-versicolor']\n",
      " ['6.0' '2.2' '4.0' '1.0' 'Iris-versicolor']\n",
      " ['6.1' '2.9' '4.7' '1.4' 'Iris-versicolor']\n",
      " ['5.6' '2.9' '3.6' '1.3' 'Iris-versicolor']\n",
      " ['6.7' '3.1' '4.4' '1.4' 'Iris-versicolor']\n",
      " ['5.6' '3.0' '4.5' '1.5' 'Iris-versicolor']\n",
      " ['5.8' '2.7' '4.1' '1.0' 'Iris-versicolor']\n",
      " ['6.2' '2.2' '4.5' '1.5' 'Iris-versicolor']\n",
      " ['5.6' '2.5' '3.9' '1.1' 'Iris-versicolor']\n",
      " ['5.9' '3.2' '4.8' '1.8' 'Iris-versicolor']\n",
      " ['6.1' '2.8' '4.0' '1.3' 'Iris-versicolor']\n",
      " ['6.3' '2.5' '4.9' '1.5' 'Iris-versicolor']\n",
      " ['6.1' '2.8' '4.7' '1.2' 'Iris-versicolor']\n",
      " ['6.4' '2.9' '4.3' '1.3' 'Iris-versicolor']\n",
      " ['6.6' '3.0' '4.4' '1.4' 'Iris-versicolor']\n",
      " ['6.8' '2.8' '4.8' '1.4' 'Iris-versicolor']\n",
      " ['6.7' '3.0' '5.0' '1.7' 'Iris-versicolor']\n",
      " ['6.0' '2.9' '4.5' '1.5' 'Iris-versicolor']\n",
      " ['5.7' '2.6' '3.5' '1.0' 'Iris-versicolor']\n",
      " ['5.5' '2.4' '3.8' '1.1' 'Iris-versicolor']\n",
      " ['5.5' '2.4' '3.7' '1.0' 'Iris-versicolor']\n",
      " ['5.8' '2.7' '3.9' '1.2' 'Iris-versicolor']\n",
      " ['6.0' '2.7' '5.1' '1.6' 'Iris-versicolor']\n",
      " ['5.4' '3.0' '4.5' '1.5' 'Iris-versicolor']\n",
      " ['6.0' '3.4' '4.5' '1.6' 'Iris-versicolor']\n",
      " ['6.7' '3.1' '4.7' '1.5' 'Iris-versicolor']\n",
      " ['6.3' '2.3' '4.4' '1.3' 'Iris-versicolor']\n",
      " ['5.6' '3.0' '4.1' '1.3' 'Iris-versicolor']\n",
      " ['5.5' '2.5' '4.0' '1.3' 'Iris-versicolor']\n",
      " ['5.5' '2.6' '4.4' '1.2' 'Iris-versicolor']\n",
      " ['6.1' '3.0' '4.6' '1.4' 'Iris-versicolor']\n",
      " ['5.8' '2.6' '4.0' '1.2' 'Iris-versicolor']\n",
      " ['5.0' '2.3' '3.3' '1.0' 'Iris-versicolor']\n",
      " ['5.6' '2.7' '4.2' '1.3' 'Iris-versicolor']\n",
      " ['5.7' '3.0' '4.2' '1.2' 'Iris-versicolor']\n",
      " ['5.7' '2.9' '4.2' '1.3' 'Iris-versicolor']\n",
      " ['6.2' '2.9' '4.3' '1.3' 'Iris-versicolor']\n",
      " ['5.1' '2.5' '3.0' '1.1' 'Iris-versicolor']\n",
      " ['5.7' '2.8' '4.1' '1.3' 'Iris-versicolor']\n",
      " ['6.3' '3.3' '6.0' '2.5' 'Iris-virginica']\n",
      " ['5.8' '2.7' '5.1' '1.9' 'Iris-virginica']\n",
      " ['7.1' '3.0' '5.9' '2.1' 'Iris-virginica']\n",
      " ['6.3' '2.9' '5.6' '1.8' 'Iris-virginica']\n",
      " ['6.5' '3.0' '5.8' '2.2' 'Iris-virginica']\n",
      " ['7.6' '3.0' '6.6' '2.1' 'Iris-virginica']\n",
      " ['4.9' '2.5' '4.5' '1.7' 'Iris-virginica']\n",
      " ['7.3' '2.9' '6.3' '1.8' 'Iris-virginica']\n",
      " ['6.7' '2.5' '5.8' '1.8' 'Iris-virginica']\n",
      " ['7.2' '3.6' '6.1' '2.5' 'Iris-virginica']\n",
      " ['6.5' '3.2' '5.1' '2.0' 'Iris-virginica']\n",
      " ['6.4' '2.7' '5.3' '1.9' 'Iris-virginica']\n",
      " ['6.8' '3.0' '5.5' '2.1' 'Iris-virginica']\n",
      " ['5.7' '2.5' '5.0' '2.0' 'Iris-virginica']\n",
      " ['5.8' '2.8' '5.1' '2.4' 'Iris-virginica']\n",
      " ['6.4' '3.2' '5.3' '2.3' 'Iris-virginica']\n",
      " ['6.5' '3.0' '5.5' '1.8' 'Iris-virginica']\n",
      " ['7.7' '3.8' '6.7' '2.2' 'Iris-virginica']\n",
      " ['7.7' '2.6' '6.9' '2.3' 'Iris-virginica']\n",
      " ['6.0' '2.2' '5.0' '1.5' 'Iris-virginica']\n",
      " ['6.9' '3.2' '5.7' '2.3' 'Iris-virginica']\n",
      " ['5.6' '2.8' '4.9' '2.0' 'Iris-virginica']\n",
      " ['7.7' '2.8' '6.7' '2.0' 'Iris-virginica']\n",
      " ['6.3' '2.7' '4.9' '1.8' 'Iris-virginica']\n",
      " ['6.7' '3.3' '5.7' '2.1' 'Iris-virginica']\n",
      " ['7.2' '3.2' '6.0' '1.8' 'Iris-virginica']\n",
      " ['6.2' '2.8' '4.8' '1.8' 'Iris-virginica']\n",
      " ['6.1' '3.0' '4.9' '1.8' 'Iris-virginica']\n",
      " ['6.4' '2.8' '5.6' '2.1' 'Iris-virginica']\n",
      " ['7.2' '3.0' '5.8' '1.6' 'Iris-virginica']\n",
      " ['7.4' '2.8' '6.1' '1.9' 'Iris-virginica']\n",
      " ['7.9' '3.8' '6.4' '2.0' 'Iris-virginica']\n",
      " ['6.4' '2.8' '5.6' '2.2' 'Iris-virginica']\n",
      " ['6.3' '2.8' '5.1' '1.5' 'Iris-virginica']\n",
      " ['6.1' '2.6' '5.6' '1.4' 'Iris-virginica']\n",
      " ['7.7' '3.0' '6.1' '2.3' 'Iris-virginica']\n",
      " ['6.3' '3.4' '5.6' '2.4' 'Iris-virginica']\n",
      " ['6.4' '3.1' '5.5' '1.8' 'Iris-virginica']\n",
      " ['6.0' '3.0' '4.8' '1.8' 'Iris-virginica']\n",
      " ['6.9' '3.1' '5.4' '2.1' 'Iris-virginica']\n",
      " ['6.7' '3.1' '5.6' '2.4' 'Iris-virginica']\n",
      " ['6.9' '3.1' '5.1' '2.3' 'Iris-virginica']\n",
      " ['5.8' '2.7' '5.1' '1.9' 'Iris-virginica']\n",
      " ['6.8' '3.2' '5.9' '2.3' 'Iris-virginica']\n",
      " ['6.7' '3.3' '5.7' '2.5' 'Iris-virginica']\n",
      " ['6.7' '3.0' '5.2' '2.3' 'Iris-virginica']\n",
      " ['6.3' '2.5' '5.0' '1.9' 'Iris-virginica']\n",
      " ['6.5' '3.0' '5.2' '2.0' 'Iris-virginica']\n",
      " ['6.2' '3.4' '5.4' '2.3' 'Iris-virginica']\n",
      " ['5.9' '3.0' '5.1' '1.8' 'Iris-virginica']]\n"
     ]
    }
   ],
   "source": [
    "iris = np.loadtxt(\"iris.data\", delimiter=',', dtype=str)\n",
    "print(iris)"
   ]
  },
  {
   "cell_type": "markdown",
   "id": "aef67409",
   "metadata": {
    "id": "aef67409"
   },
   "source": [
    "### 2. Drop column whose index=4 from the array iris."
   ]
  },
  {
   "cell_type": "code",
   "execution_count": 43,
   "id": "e3b29b43",
   "metadata": {
    "colab": {
     "base_uri": "https://localhost:8080/"
    },
    "executionInfo": {
     "elapsed": 409,
     "status": "ok",
     "timestamp": 1697735739214,
     "user": {
      "displayName": "Tayyab Tavvagunta",
      "userId": "05736559268130400023"
     },
     "user_tz": -330
    },
    "id": "e3b29b43",
    "outputId": "c1e94fdf-f655-4e73-b0e3-12434697e509",
    "scrolled": false
   },
   "outputs": [
    {
     "name": "stdout",
     "output_type": "stream",
     "text": [
      "[['5.1' '3.5' '1.4' '0.2']\n",
      " ['4.9' '3.0' '1.4' '0.2']\n",
      " ['4.7' '3.2' '1.3' '0.2']\n",
      " ['4.6' '3.1' '1.5' '0.2']\n",
      " ['5.0' '3.6' '1.4' '0.2']\n",
      " ['5.4' '3.9' '1.7' '0.4']\n",
      " ['4.6' '3.4' '1.4' '0.3']\n",
      " ['5.0' '3.4' '1.5' '0.2']\n",
      " ['4.4' '2.9' '1.4' '0.2']\n",
      " ['4.9' '3.1' '1.5' '0.1']\n",
      " ['5.4' '3.7' '1.5' '0.2']\n",
      " ['4.8' '3.4' '1.6' '0.2']\n",
      " ['4.8' '3.0' '1.4' '0.1']\n",
      " ['4.3' '3.0' '1.1' '0.1']\n",
      " ['5.8' '4.0' '1.2' '0.2']\n",
      " ['5.7' '4.4' '1.5' '0.4']\n",
      " ['5.4' '3.9' '1.3' '0.4']\n",
      " ['5.1' '3.5' '1.4' '0.3']\n",
      " ['5.7' '3.8' '1.7' '0.3']\n",
      " ['5.1' '3.8' '1.5' '0.3']\n",
      " ['5.4' '3.4' '1.7' '0.2']\n",
      " ['5.1' '3.7' '1.5' '0.4']\n",
      " ['4.6' '3.6' '1.0' '0.2']\n",
      " ['5.1' '3.3' '1.7' '0.5']\n",
      " ['4.8' '3.4' '1.9' '0.2']\n",
      " ['5.0' '3.0' '1.6' '0.2']\n",
      " ['5.0' '3.4' '1.6' '0.4']\n",
      " ['5.2' '3.5' '1.5' '0.2']\n",
      " ['5.2' '3.4' '1.4' '0.2']\n",
      " ['4.7' '3.2' '1.6' '0.2']\n",
      " ['4.8' '3.1' '1.6' '0.2']\n",
      " ['5.4' '3.4' '1.5' '0.4']\n",
      " ['5.2' '4.1' '1.5' '0.1']\n",
      " ['5.5' '4.2' '1.4' '0.2']\n",
      " ['4.9' '3.1' '1.5' '0.1']\n",
      " ['5.0' '3.2' '1.2' '0.2']\n",
      " ['5.5' '3.5' '1.3' '0.2']\n",
      " ['4.9' '3.1' '1.5' '0.1']\n",
      " ['4.4' '3.0' '1.3' '0.2']\n",
      " ['5.1' '3.4' '1.5' '0.2']\n",
      " ['5.0' '3.5' '1.3' '0.3']\n",
      " ['4.5' '2.3' '1.3' '0.3']\n",
      " ['4.4' '3.2' '1.3' '0.2']\n",
      " ['5.0' '3.5' '1.6' '0.6']\n",
      " ['5.1' '3.8' '1.9' '0.4']\n",
      " ['4.8' '3.0' '1.4' '0.3']\n",
      " ['5.1' '3.8' '1.6' '0.2']\n",
      " ['4.6' '3.2' '1.4' '0.2']\n",
      " ['5.3' '3.7' '1.5' '0.2']\n",
      " ['5.0' '3.3' '1.4' '0.2']\n",
      " ['7.0' '3.2' '4.7' '1.4']\n",
      " ['6.4' '3.2' '4.5' '1.5']\n",
      " ['6.9' '3.1' '4.9' '1.5']\n",
      " ['5.5' '2.3' '4.0' '1.3']\n",
      " ['6.5' '2.8' '4.6' '1.5']\n",
      " ['5.7' '2.8' '4.5' '1.3']\n",
      " ['6.3' '3.3' '4.7' '1.6']\n",
      " ['4.9' '2.4' '3.3' '1.0']\n",
      " ['6.6' '2.9' '4.6' '1.3']\n",
      " ['5.2' '2.7' '3.9' '1.4']\n",
      " ['5.0' '2.0' '3.5' '1.0']\n",
      " ['5.9' '3.0' '4.2' '1.5']\n",
      " ['6.0' '2.2' '4.0' '1.0']\n",
      " ['6.1' '2.9' '4.7' '1.4']\n",
      " ['5.6' '2.9' '3.6' '1.3']\n",
      " ['6.7' '3.1' '4.4' '1.4']\n",
      " ['5.6' '3.0' '4.5' '1.5']\n",
      " ['5.8' '2.7' '4.1' '1.0']\n",
      " ['6.2' '2.2' '4.5' '1.5']\n",
      " ['5.6' '2.5' '3.9' '1.1']\n",
      " ['5.9' '3.2' '4.8' '1.8']\n",
      " ['6.1' '2.8' '4.0' '1.3']\n",
      " ['6.3' '2.5' '4.9' '1.5']\n",
      " ['6.1' '2.8' '4.7' '1.2']\n",
      " ['6.4' '2.9' '4.3' '1.3']\n",
      " ['6.6' '3.0' '4.4' '1.4']\n",
      " ['6.8' '2.8' '4.8' '1.4']\n",
      " ['6.7' '3.0' '5.0' '1.7']\n",
      " ['6.0' '2.9' '4.5' '1.5']\n",
      " ['5.7' '2.6' '3.5' '1.0']\n",
      " ['5.5' '2.4' '3.8' '1.1']\n",
      " ['5.5' '2.4' '3.7' '1.0']\n",
      " ['5.8' '2.7' '3.9' '1.2']\n",
      " ['6.0' '2.7' '5.1' '1.6']\n",
      " ['5.4' '3.0' '4.5' '1.5']\n",
      " ['6.0' '3.4' '4.5' '1.6']\n",
      " ['6.7' '3.1' '4.7' '1.5']\n",
      " ['6.3' '2.3' '4.4' '1.3']\n",
      " ['5.6' '3.0' '4.1' '1.3']\n",
      " ['5.5' '2.5' '4.0' '1.3']\n",
      " ['5.5' '2.6' '4.4' '1.2']\n",
      " ['6.1' '3.0' '4.6' '1.4']\n",
      " ['5.8' '2.6' '4.0' '1.2']\n",
      " ['5.0' '2.3' '3.3' '1.0']\n",
      " ['5.6' '2.7' '4.2' '1.3']\n",
      " ['5.7' '3.0' '4.2' '1.2']\n",
      " ['5.7' '2.9' '4.2' '1.3']\n",
      " ['6.2' '2.9' '4.3' '1.3']\n",
      " ['5.1' '2.5' '3.0' '1.1']\n",
      " ['5.7' '2.8' '4.1' '1.3']\n",
      " ['6.3' '3.3' '6.0' '2.5']\n",
      " ['5.8' '2.7' '5.1' '1.9']\n",
      " ['7.1' '3.0' '5.9' '2.1']\n",
      " ['6.3' '2.9' '5.6' '1.8']\n",
      " ['6.5' '3.0' '5.8' '2.2']\n",
      " ['7.6' '3.0' '6.6' '2.1']\n",
      " ['4.9' '2.5' '4.5' '1.7']\n",
      " ['7.3' '2.9' '6.3' '1.8']\n",
      " ['6.7' '2.5' '5.8' '1.8']\n",
      " ['7.2' '3.6' '6.1' '2.5']\n",
      " ['6.5' '3.2' '5.1' '2.0']\n",
      " ['6.4' '2.7' '5.3' '1.9']\n",
      " ['6.8' '3.0' '5.5' '2.1']\n",
      " ['5.7' '2.5' '5.0' '2.0']\n",
      " ['5.8' '2.8' '5.1' '2.4']\n",
      " ['6.4' '3.2' '5.3' '2.3']\n",
      " ['6.5' '3.0' '5.5' '1.8']\n",
      " ['7.7' '3.8' '6.7' '2.2']\n",
      " ['7.7' '2.6' '6.9' '2.3']\n",
      " ['6.0' '2.2' '5.0' '1.5']\n",
      " ['6.9' '3.2' '5.7' '2.3']\n",
      " ['5.6' '2.8' '4.9' '2.0']\n",
      " ['7.7' '2.8' '6.7' '2.0']\n",
      " ['6.3' '2.7' '4.9' '1.8']\n",
      " ['6.7' '3.3' '5.7' '2.1']\n",
      " ['7.2' '3.2' '6.0' '1.8']\n",
      " ['6.2' '2.8' '4.8' '1.8']\n",
      " ['6.1' '3.0' '4.9' '1.8']\n",
      " ['6.4' '2.8' '5.6' '2.1']\n",
      " ['7.2' '3.0' '5.8' '1.6']\n",
      " ['7.4' '2.8' '6.1' '1.9']\n",
      " ['7.9' '3.8' '6.4' '2.0']\n",
      " ['6.4' '2.8' '5.6' '2.2']\n",
      " ['6.3' '2.8' '5.1' '1.5']\n",
      " ['6.1' '2.6' '5.6' '1.4']\n",
      " ['7.7' '3.0' '6.1' '2.3']\n",
      " ['6.3' '3.4' '5.6' '2.4']\n",
      " ['6.4' '3.1' '5.5' '1.8']\n",
      " ['6.0' '3.0' '4.8' '1.8']\n",
      " ['6.9' '3.1' '5.4' '2.1']\n",
      " ['6.7' '3.1' '5.6' '2.4']\n",
      " ['6.9' '3.1' '5.1' '2.3']\n",
      " ['5.8' '2.7' '5.1' '1.9']\n",
      " ['6.8' '3.2' '5.9' '2.3']\n",
      " ['6.7' '3.3' '5.7' '2.5']\n",
      " ['6.7' '3.0' '5.2' '2.3']\n",
      " ['6.3' '2.5' '5.0' '1.9']\n",
      " ['6.5' '3.0' '5.2' '2.0']\n",
      " ['6.2' '3.4' '5.4' '2.3']\n",
      " ['5.9' '3.0' '5.1' '1.8']]\n"
     ]
    }
   ],
   "source": [
    "print(np.delete(iris, 4, axis=1))"
   ]
  },
  {
   "cell_type": "markdown",
   "id": "620f843b",
   "metadata": {
    "id": "620f843b"
   },
   "source": [
    "### 3. Display the shape, dimensions and size of iris."
   ]
  },
  {
   "cell_type": "code",
   "execution_count": 44,
   "id": "641c71fc",
   "metadata": {
    "colab": {
     "base_uri": "https://localhost:8080/"
    },
    "executionInfo": {
     "elapsed": 460,
     "status": "ok",
     "timestamp": 1697735744518,
     "user": {
      "displayName": "Tayyab Tavvagunta",
      "userId": "05736559268130400023"
     },
     "user_tz": -330
    },
    "id": "641c71fc",
    "outputId": "0ebc0754-934d-4827-b41a-f838ebe4ff66"
   },
   "outputs": [
    {
     "name": "stdout",
     "output_type": "stream",
     "text": [
      "Dimension:  2\n",
      "Shape:  (150, 5)\n",
      "Size:  750\n"
     ]
    }
   ],
   "source": [
    "print(\"Dimension: \",iris.ndim)\n",
    "print(\"Shape: \",iris.shape)\n",
    "print(\"Size: \",iris.size)"
   ]
  },
  {
   "cell_type": "markdown",
   "id": "f085480f",
   "metadata": {
    "id": "f085480f"
   },
   "source": [
    "### 4. Split iris into three 2-D arrays, each array for a different species. Call them iris1, iris2, iris3."
   ]
  },
  {
   "cell_type": "code",
   "execution_count": 45,
   "id": "1nJEGoJaQ9NK",
   "metadata": {
    "executionInfo": {
     "elapsed": 483,
     "status": "ok",
     "timestamp": 1697735765687,
     "user": {
      "displayName": "Tayyab Tavvagunta",
      "userId": "05736559268130400023"
     },
     "user_tz": -330
    },
    "id": "1nJEGoJaQ9NK"
   },
   "outputs": [],
   "source": [
    "idx1 = iris[:,-1]=='Iris-setosa'\n",
    "idx2 = iris[:,-1]=='Iris-versicolor'\n",
    "idx3 = iris[:,-1]=='Iris-virginica'\n",
    "\n",
    "iris = np.delete(iris,4,axis=1)\n",
    "\n",
    "iris = iris.astype(float)\n",
    "\n",
    "iris1 = iris[idx1]\n",
    "iris2 = iris[idx2]\n",
    "iris3 = iris[idx3]"
   ]
  },
  {
   "cell_type": "markdown",
   "id": "73689c97",
   "metadata": {
    "id": "73689c97"
   },
   "source": [
    "### 5. Print the three arrays iris1, iris2, iris3."
   ]
  },
  {
   "cell_type": "code",
   "execution_count": 46,
   "id": "f8cuvXr-y-dK",
   "metadata": {
    "colab": {
     "base_uri": "https://localhost:8080/"
    },
    "executionInfo": {
     "elapsed": 7,
     "status": "ok",
     "timestamp": 1697735768511,
     "user": {
      "displayName": "Tayyab Tavvagunta",
      "userId": "05736559268130400023"
     },
     "user_tz": -330
    },
    "id": "f8cuvXr-y-dK",
    "outputId": "02aa2669-81e3-4fab-b9a5-36e65f991e38"
   },
   "outputs": [
    {
     "name": "stdout",
     "output_type": "stream",
     "text": [
      "Iris 1:\n",
      " [[5.1 3.5 1.4 0.2]\n",
      " [4.9 3.  1.4 0.2]\n",
      " [4.7 3.2 1.3 0.2]\n",
      " [4.6 3.1 1.5 0.2]\n",
      " [5.  3.6 1.4 0.2]\n",
      " [5.4 3.9 1.7 0.4]\n",
      " [4.6 3.4 1.4 0.3]\n",
      " [5.  3.4 1.5 0.2]\n",
      " [4.4 2.9 1.4 0.2]\n",
      " [4.9 3.1 1.5 0.1]\n",
      " [5.4 3.7 1.5 0.2]\n",
      " [4.8 3.4 1.6 0.2]\n",
      " [4.8 3.  1.4 0.1]\n",
      " [4.3 3.  1.1 0.1]\n",
      " [5.8 4.  1.2 0.2]\n",
      " [5.7 4.4 1.5 0.4]\n",
      " [5.4 3.9 1.3 0.4]\n",
      " [5.1 3.5 1.4 0.3]\n",
      " [5.7 3.8 1.7 0.3]\n",
      " [5.1 3.8 1.5 0.3]\n",
      " [5.4 3.4 1.7 0.2]\n",
      " [5.1 3.7 1.5 0.4]\n",
      " [4.6 3.6 1.  0.2]\n",
      " [5.1 3.3 1.7 0.5]\n",
      " [4.8 3.4 1.9 0.2]\n",
      " [5.  3.  1.6 0.2]\n",
      " [5.  3.4 1.6 0.4]\n",
      " [5.2 3.5 1.5 0.2]\n",
      " [5.2 3.4 1.4 0.2]\n",
      " [4.7 3.2 1.6 0.2]\n",
      " [4.8 3.1 1.6 0.2]\n",
      " [5.4 3.4 1.5 0.4]\n",
      " [5.2 4.1 1.5 0.1]\n",
      " [5.5 4.2 1.4 0.2]\n",
      " [4.9 3.1 1.5 0.1]\n",
      " [5.  3.2 1.2 0.2]\n",
      " [5.5 3.5 1.3 0.2]\n",
      " [4.9 3.1 1.5 0.1]\n",
      " [4.4 3.  1.3 0.2]\n",
      " [5.1 3.4 1.5 0.2]\n",
      " [5.  3.5 1.3 0.3]\n",
      " [4.5 2.3 1.3 0.3]\n",
      " [4.4 3.2 1.3 0.2]\n",
      " [5.  3.5 1.6 0.6]\n",
      " [5.1 3.8 1.9 0.4]\n",
      " [4.8 3.  1.4 0.3]\n",
      " [5.1 3.8 1.6 0.2]\n",
      " [4.6 3.2 1.4 0.2]\n",
      " [5.3 3.7 1.5 0.2]\n",
      " [5.  3.3 1.4 0.2]] \n",
      "\n",
      "Iris 2:\n",
      " [[7.  3.2 4.7 1.4]\n",
      " [6.4 3.2 4.5 1.5]\n",
      " [6.9 3.1 4.9 1.5]\n",
      " [5.5 2.3 4.  1.3]\n",
      " [6.5 2.8 4.6 1.5]\n",
      " [5.7 2.8 4.5 1.3]\n",
      " [6.3 3.3 4.7 1.6]\n",
      " [4.9 2.4 3.3 1. ]\n",
      " [6.6 2.9 4.6 1.3]\n",
      " [5.2 2.7 3.9 1.4]\n",
      " [5.  2.  3.5 1. ]\n",
      " [5.9 3.  4.2 1.5]\n",
      " [6.  2.2 4.  1. ]\n",
      " [6.1 2.9 4.7 1.4]\n",
      " [5.6 2.9 3.6 1.3]\n",
      " [6.7 3.1 4.4 1.4]\n",
      " [5.6 3.  4.5 1.5]\n",
      " [5.8 2.7 4.1 1. ]\n",
      " [6.2 2.2 4.5 1.5]\n",
      " [5.6 2.5 3.9 1.1]\n",
      " [5.9 3.2 4.8 1.8]\n",
      " [6.1 2.8 4.  1.3]\n",
      " [6.3 2.5 4.9 1.5]\n",
      " [6.1 2.8 4.7 1.2]\n",
      " [6.4 2.9 4.3 1.3]\n",
      " [6.6 3.  4.4 1.4]\n",
      " [6.8 2.8 4.8 1.4]\n",
      " [6.7 3.  5.  1.7]\n",
      " [6.  2.9 4.5 1.5]\n",
      " [5.7 2.6 3.5 1. ]\n",
      " [5.5 2.4 3.8 1.1]\n",
      " [5.5 2.4 3.7 1. ]\n",
      " [5.8 2.7 3.9 1.2]\n",
      " [6.  2.7 5.1 1.6]\n",
      " [5.4 3.  4.5 1.5]\n",
      " [6.  3.4 4.5 1.6]\n",
      " [6.7 3.1 4.7 1.5]\n",
      " [6.3 2.3 4.4 1.3]\n",
      " [5.6 3.  4.1 1.3]\n",
      " [5.5 2.5 4.  1.3]\n",
      " [5.5 2.6 4.4 1.2]\n",
      " [6.1 3.  4.6 1.4]\n",
      " [5.8 2.6 4.  1.2]\n",
      " [5.  2.3 3.3 1. ]\n",
      " [5.6 2.7 4.2 1.3]\n",
      " [5.7 3.  4.2 1.2]\n",
      " [5.7 2.9 4.2 1.3]\n",
      " [6.2 2.9 4.3 1.3]\n",
      " [5.1 2.5 3.  1.1]\n",
      " [5.7 2.8 4.1 1.3]] \n",
      "\n",
      "Iris 3:\n",
      " [[6.3 3.3 6.  2.5]\n",
      " [5.8 2.7 5.1 1.9]\n",
      " [7.1 3.  5.9 2.1]\n",
      " [6.3 2.9 5.6 1.8]\n",
      " [6.5 3.  5.8 2.2]\n",
      " [7.6 3.  6.6 2.1]\n",
      " [4.9 2.5 4.5 1.7]\n",
      " [7.3 2.9 6.3 1.8]\n",
      " [6.7 2.5 5.8 1.8]\n",
      " [7.2 3.6 6.1 2.5]\n",
      " [6.5 3.2 5.1 2. ]\n",
      " [6.4 2.7 5.3 1.9]\n",
      " [6.8 3.  5.5 2.1]\n",
      " [5.7 2.5 5.  2. ]\n",
      " [5.8 2.8 5.1 2.4]\n",
      " [6.4 3.2 5.3 2.3]\n",
      " [6.5 3.  5.5 1.8]\n",
      " [7.7 3.8 6.7 2.2]\n",
      " [7.7 2.6 6.9 2.3]\n",
      " [6.  2.2 5.  1.5]\n",
      " [6.9 3.2 5.7 2.3]\n",
      " [5.6 2.8 4.9 2. ]\n",
      " [7.7 2.8 6.7 2. ]\n",
      " [6.3 2.7 4.9 1.8]\n",
      " [6.7 3.3 5.7 2.1]\n",
      " [7.2 3.2 6.  1.8]\n",
      " [6.2 2.8 4.8 1.8]\n",
      " [6.1 3.  4.9 1.8]\n",
      " [6.4 2.8 5.6 2.1]\n",
      " [7.2 3.  5.8 1.6]\n",
      " [7.4 2.8 6.1 1.9]\n",
      " [7.9 3.8 6.4 2. ]\n",
      " [6.4 2.8 5.6 2.2]\n",
      " [6.3 2.8 5.1 1.5]\n",
      " [6.1 2.6 5.6 1.4]\n",
      " [7.7 3.  6.1 2.3]\n",
      " [6.3 3.4 5.6 2.4]\n",
      " [6.4 3.1 5.5 1.8]\n",
      " [6.  3.  4.8 1.8]\n",
      " [6.9 3.1 5.4 2.1]\n",
      " [6.7 3.1 5.6 2.4]\n",
      " [6.9 3.1 5.1 2.3]\n",
      " [5.8 2.7 5.1 1.9]\n",
      " [6.8 3.2 5.9 2.3]\n",
      " [6.7 3.3 5.7 2.5]\n",
      " [6.7 3.  5.2 2.3]\n",
      " [6.3 2.5 5.  1.9]\n",
      " [6.5 3.  5.2 2. ]\n",
      " [6.2 3.4 5.4 2.3]\n",
      " [5.9 3.  5.1 1.8]] \n",
      "\n"
     ]
    }
   ],
   "source": [
    "print(\"Iris 1:\\n\",iris1,\"\\n\")\n",
    "print(\"Iris 2:\\n\",iris2,\"\\n\")\n",
    "print(\"Iris 3:\\n\",iris3,\"\\n\")"
   ]
  },
  {
   "cell_type": "markdown",
   "id": "b2ec0c20",
   "metadata": {
    "id": "b2ec0c20"
   },
   "source": [
    "### 6. Create a 1-D array header having elements \"Sepal Length\", \"Sepal Width\", \"Petal Length\", \"Petal Width\", \"Species No\" in that order."
   ]
  },
  {
   "cell_type": "code",
   "execution_count": 47,
   "id": "W3fAxDmIErlv",
   "metadata": {
    "executionInfo": {
     "elapsed": 402,
     "status": "ok",
     "timestamp": 1697735778050,
     "user": {
      "displayName": "Tayyab Tavvagunta",
      "userId": "05736559268130400023"
     },
     "user_tz": -330
    },
    "id": "W3fAxDmIErlv"
   },
   "outputs": [],
   "source": [
    "header = np.array([\"Sepal Length\", \"Sepal Width\", \"Petal Length\", \"Petal Width\", \"Species No\"])\n",
    "\n",
    "irisdata = np.loadtxt('iris.data',delimiter=',',dtype=str)\n",
    "\n",
    "irisdata = np.array(np.insert(irisdata, 0, header, axis=0))"
   ]
  },
  {
   "cell_type": "markdown",
   "id": "2b842fc5",
   "metadata": {
    "id": "2b842fc5"
   },
   "source": [
    "### 7. Display the array header."
   ]
  },
  {
   "cell_type": "code",
   "execution_count": 48,
   "id": "lEBdNFELE0f-",
   "metadata": {
    "colab": {
     "base_uri": "https://localhost:8080/"
    },
    "executionInfo": {
     "elapsed": 376,
     "status": "ok",
     "timestamp": 1697735783134,
     "user": {
      "displayName": "Tayyab Tavvagunta",
      "userId": "05736559268130400023"
     },
     "user_tz": -330
    },
    "id": "lEBdNFELE0f-",
    "outputId": "c271e74b-9ac7-4c46-f574-ed08a5065438"
   },
   "outputs": [
    {
     "name": "stdout",
     "output_type": "stream",
     "text": [
      "[['Sepal Length' 'Sepal Width' 'Petal Length' 'Petal Width' 'Species No']\n",
      " ['5.1' '3.5' '1.4' '0.2' 'Iris-setosa']\n",
      " ['4.9' '3.0' '1.4' '0.2' 'Iris-setosa']\n",
      " ['4.7' '3.2' '1.3' '0.2' 'Iris-setosa']\n",
      " ['4.6' '3.1' '1.5' '0.2' 'Iris-setosa']\n",
      " ['5.0' '3.6' '1.4' '0.2' 'Iris-setosa']\n",
      " ['5.4' '3.9' '1.7' '0.4' 'Iris-setosa']\n",
      " ['4.6' '3.4' '1.4' '0.3' 'Iris-setosa']\n",
      " ['5.0' '3.4' '1.5' '0.2' 'Iris-setosa']\n",
      " ['4.4' '2.9' '1.4' '0.2' 'Iris-setosa']\n",
      " ['4.9' '3.1' '1.5' '0.1' 'Iris-setosa']\n",
      " ['5.4' '3.7' '1.5' '0.2' 'Iris-setosa']\n",
      " ['4.8' '3.4' '1.6' '0.2' 'Iris-setosa']\n",
      " ['4.8' '3.0' '1.4' '0.1' 'Iris-setosa']\n",
      " ['4.3' '3.0' '1.1' '0.1' 'Iris-setosa']\n",
      " ['5.8' '4.0' '1.2' '0.2' 'Iris-setosa']\n",
      " ['5.7' '4.4' '1.5' '0.4' 'Iris-setosa']\n",
      " ['5.4' '3.9' '1.3' '0.4' 'Iris-setosa']\n",
      " ['5.1' '3.5' '1.4' '0.3' 'Iris-setosa']\n",
      " ['5.7' '3.8' '1.7' '0.3' 'Iris-setosa']\n",
      " ['5.1' '3.8' '1.5' '0.3' 'Iris-setosa']\n",
      " ['5.4' '3.4' '1.7' '0.2' 'Iris-setosa']\n",
      " ['5.1' '3.7' '1.5' '0.4' 'Iris-setosa']\n",
      " ['4.6' '3.6' '1.0' '0.2' 'Iris-setosa']\n",
      " ['5.1' '3.3' '1.7' '0.5' 'Iris-setosa']\n",
      " ['4.8' '3.4' '1.9' '0.2' 'Iris-setosa']\n",
      " ['5.0' '3.0' '1.6' '0.2' 'Iris-setosa']\n",
      " ['5.0' '3.4' '1.6' '0.4' 'Iris-setosa']\n",
      " ['5.2' '3.5' '1.5' '0.2' 'Iris-setosa']\n",
      " ['5.2' '3.4' '1.4' '0.2' 'Iris-setosa']\n",
      " ['4.7' '3.2' '1.6' '0.2' 'Iris-setosa']\n",
      " ['4.8' '3.1' '1.6' '0.2' 'Iris-setosa']\n",
      " ['5.4' '3.4' '1.5' '0.4' 'Iris-setosa']\n",
      " ['5.2' '4.1' '1.5' '0.1' 'Iris-setosa']\n",
      " ['5.5' '4.2' '1.4' '0.2' 'Iris-setosa']\n",
      " ['4.9' '3.1' '1.5' '0.1' 'Iris-setosa']\n",
      " ['5.0' '3.2' '1.2' '0.2' 'Iris-setosa']\n",
      " ['5.5' '3.5' '1.3' '0.2' 'Iris-setosa']\n",
      " ['4.9' '3.1' '1.5' '0.1' 'Iris-setosa']\n",
      " ['4.4' '3.0' '1.3' '0.2' 'Iris-setosa']\n",
      " ['5.1' '3.4' '1.5' '0.2' 'Iris-setosa']\n",
      " ['5.0' '3.5' '1.3' '0.3' 'Iris-setosa']\n",
      " ['4.5' '2.3' '1.3' '0.3' 'Iris-setosa']\n",
      " ['4.4' '3.2' '1.3' '0.2' 'Iris-setosa']\n",
      " ['5.0' '3.5' '1.6' '0.6' 'Iris-setosa']\n",
      " ['5.1' '3.8' '1.9' '0.4' 'Iris-setosa']\n",
      " ['4.8' '3.0' '1.4' '0.3' 'Iris-setosa']\n",
      " ['5.1' '3.8' '1.6' '0.2' 'Iris-setosa']\n",
      " ['4.6' '3.2' '1.4' '0.2' 'Iris-setosa']\n",
      " ['5.3' '3.7' '1.5' '0.2' 'Iris-setosa']\n",
      " ['5.0' '3.3' '1.4' '0.2' 'Iris-setosa']\n",
      " ['7.0' '3.2' '4.7' '1.4' 'Iris-versicolor']\n",
      " ['6.4' '3.2' '4.5' '1.5' 'Iris-versicolor']\n",
      " ['6.9' '3.1' '4.9' '1.5' 'Iris-versicolor']\n",
      " ['5.5' '2.3' '4.0' '1.3' 'Iris-versicolor']\n",
      " ['6.5' '2.8' '4.6' '1.5' 'Iris-versicolor']\n",
      " ['5.7' '2.8' '4.5' '1.3' 'Iris-versicolor']\n",
      " ['6.3' '3.3' '4.7' '1.6' 'Iris-versicolor']\n",
      " ['4.9' '2.4' '3.3' '1.0' 'Iris-versicolor']\n",
      " ['6.6' '2.9' '4.6' '1.3' 'Iris-versicolor']\n",
      " ['5.2' '2.7' '3.9' '1.4' 'Iris-versicolor']\n",
      " ['5.0' '2.0' '3.5' '1.0' 'Iris-versicolor']\n",
      " ['5.9' '3.0' '4.2' '1.5' 'Iris-versicolor']\n",
      " ['6.0' '2.2' '4.0' '1.0' 'Iris-versicolor']\n",
      " ['6.1' '2.9' '4.7' '1.4' 'Iris-versicolor']\n",
      " ['5.6' '2.9' '3.6' '1.3' 'Iris-versicolor']\n",
      " ['6.7' '3.1' '4.4' '1.4' 'Iris-versicolor']\n",
      " ['5.6' '3.0' '4.5' '1.5' 'Iris-versicolor']\n",
      " ['5.8' '2.7' '4.1' '1.0' 'Iris-versicolor']\n",
      " ['6.2' '2.2' '4.5' '1.5' 'Iris-versicolor']\n",
      " ['5.6' '2.5' '3.9' '1.1' 'Iris-versicolor']\n",
      " ['5.9' '3.2' '4.8' '1.8' 'Iris-versicolor']\n",
      " ['6.1' '2.8' '4.0' '1.3' 'Iris-versicolor']\n",
      " ['6.3' '2.5' '4.9' '1.5' 'Iris-versicolor']\n",
      " ['6.1' '2.8' '4.7' '1.2' 'Iris-versicolor']\n",
      " ['6.4' '2.9' '4.3' '1.3' 'Iris-versicolor']\n",
      " ['6.6' '3.0' '4.4' '1.4' 'Iris-versicolor']\n",
      " ['6.8' '2.8' '4.8' '1.4' 'Iris-versicolor']\n",
      " ['6.7' '3.0' '5.0' '1.7' 'Iris-versicolor']\n",
      " ['6.0' '2.9' '4.5' '1.5' 'Iris-versicolor']\n",
      " ['5.7' '2.6' '3.5' '1.0' 'Iris-versicolor']\n",
      " ['5.5' '2.4' '3.8' '1.1' 'Iris-versicolor']\n",
      " ['5.5' '2.4' '3.7' '1.0' 'Iris-versicolor']\n",
      " ['5.8' '2.7' '3.9' '1.2' 'Iris-versicolor']\n",
      " ['6.0' '2.7' '5.1' '1.6' 'Iris-versicolor']\n",
      " ['5.4' '3.0' '4.5' '1.5' 'Iris-versicolor']\n",
      " ['6.0' '3.4' '4.5' '1.6' 'Iris-versicolor']\n",
      " ['6.7' '3.1' '4.7' '1.5' 'Iris-versicolor']\n",
      " ['6.3' '2.3' '4.4' '1.3' 'Iris-versicolor']\n",
      " ['5.6' '3.0' '4.1' '1.3' 'Iris-versicolor']\n",
      " ['5.5' '2.5' '4.0' '1.3' 'Iris-versicolor']\n",
      " ['5.5' '2.6' '4.4' '1.2' 'Iris-versicolor']\n",
      " ['6.1' '3.0' '4.6' '1.4' 'Iris-versicolor']\n",
      " ['5.8' '2.6' '4.0' '1.2' 'Iris-versicolor']\n",
      " ['5.0' '2.3' '3.3' '1.0' 'Iris-versicolor']\n",
      " ['5.6' '2.7' '4.2' '1.3' 'Iris-versicolor']\n",
      " ['5.7' '3.0' '4.2' '1.2' 'Iris-versicolor']\n",
      " ['5.7' '2.9' '4.2' '1.3' 'Iris-versicolor']\n",
      " ['6.2' '2.9' '4.3' '1.3' 'Iris-versicolor']\n",
      " ['5.1' '2.5' '3.0' '1.1' 'Iris-versicolor']\n",
      " ['5.7' '2.8' '4.1' '1.3' 'Iris-versicolor']\n",
      " ['6.3' '3.3' '6.0' '2.5' 'Iris-virginica']\n",
      " ['5.8' '2.7' '5.1' '1.9' 'Iris-virginica']\n",
      " ['7.1' '3.0' '5.9' '2.1' 'Iris-virginica']\n",
      " ['6.3' '2.9' '5.6' '1.8' 'Iris-virginica']\n",
      " ['6.5' '3.0' '5.8' '2.2' 'Iris-virginica']\n",
      " ['7.6' '3.0' '6.6' '2.1' 'Iris-virginica']\n",
      " ['4.9' '2.5' '4.5' '1.7' 'Iris-virginica']\n",
      " ['7.3' '2.9' '6.3' '1.8' 'Iris-virginica']\n",
      " ['6.7' '2.5' '5.8' '1.8' 'Iris-virginica']\n",
      " ['7.2' '3.6' '6.1' '2.5' 'Iris-virginica']\n",
      " ['6.5' '3.2' '5.1' '2.0' 'Iris-virginica']\n",
      " ['6.4' '2.7' '5.3' '1.9' 'Iris-virginica']\n",
      " ['6.8' '3.0' '5.5' '2.1' 'Iris-virginica']\n",
      " ['5.7' '2.5' '5.0' '2.0' 'Iris-virginica']\n",
      " ['5.8' '2.8' '5.1' '2.4' 'Iris-virginica']\n",
      " ['6.4' '3.2' '5.3' '2.3' 'Iris-virginica']\n",
      " ['6.5' '3.0' '5.5' '1.8' 'Iris-virginica']\n",
      " ['7.7' '3.8' '6.7' '2.2' 'Iris-virginica']\n",
      " ['7.7' '2.6' '6.9' '2.3' 'Iris-virginica']\n",
      " ['6.0' '2.2' '5.0' '1.5' 'Iris-virginica']\n",
      " ['6.9' '3.2' '5.7' '2.3' 'Iris-virginica']\n",
      " ['5.6' '2.8' '4.9' '2.0' 'Iris-virginica']\n",
      " ['7.7' '2.8' '6.7' '2.0' 'Iris-virginica']\n",
      " ['6.3' '2.7' '4.9' '1.8' 'Iris-virginica']\n",
      " ['6.7' '3.3' '5.7' '2.1' 'Iris-virginica']\n",
      " ['7.2' '3.2' '6.0' '1.8' 'Iris-virginica']\n",
      " ['6.2' '2.8' '4.8' '1.8' 'Iris-virginica']\n",
      " ['6.1' '3.0' '4.9' '1.8' 'Iris-virginica']\n",
      " ['6.4' '2.8' '5.6' '2.1' 'Iris-virginica']\n",
      " ['7.2' '3.0' '5.8' '1.6' 'Iris-virginica']\n",
      " ['7.4' '2.8' '6.1' '1.9' 'Iris-virginica']\n",
      " ['7.9' '3.8' '6.4' '2.0' 'Iris-virginica']\n",
      " ['6.4' '2.8' '5.6' '2.2' 'Iris-virginica']\n",
      " ['6.3' '2.8' '5.1' '1.5' 'Iris-virginica']\n",
      " ['6.1' '2.6' '5.6' '1.4' 'Iris-virginica']\n",
      " ['7.7' '3.0' '6.1' '2.3' 'Iris-virginica']\n",
      " ['6.3' '3.4' '5.6' '2.4' 'Iris-virginica']\n",
      " ['6.4' '3.1' '5.5' '1.8' 'Iris-virginica']\n",
      " ['6.0' '3.0' '4.8' '1.8' 'Iris-virginica']\n",
      " ['6.9' '3.1' '5.4' '2.1' 'Iris-virginica']\n",
      " ['6.7' '3.1' '5.6' '2.4' 'Iris-virginica']\n",
      " ['6.9' '3.1' '5.1' '2.3' 'Iris-virginica']\n",
      " ['5.8' '2.7' '5.1' '1.9' 'Iris-virginica']\n",
      " ['6.8' '3.2' '5.9' '2.3' 'Iris-virginica']\n",
      " ['6.7' '3.3' '5.7' '2.5' 'Iris-virginica']\n",
      " ['6.7' '3.0' '5.2' '2.3' 'Iris-virginica']\n",
      " ['6.3' '2.5' '5.0' '1.9' 'Iris-virginica']\n",
      " ['6.5' '3.0' '5.2' '2.0' 'Iris-virginica']\n",
      " ['6.2' '3.4' '5.4' '2.3' 'Iris-virginica']\n",
      " ['5.9' '3.0' '5.1' '1.8' 'Iris-virginica']]\n"
     ]
    }
   ],
   "source": [
    "print(irisdata)"
   ]
  },
  {
   "cell_type": "markdown",
   "id": "066a529b",
   "metadata": {
    "id": "066a529b"
   },
   "source": [
    "### 8. Find the max, min, mean, and standard deviation, variance for the columns of the iris and store the results in the arrays iris_max, iris_min, iris_avg, iris_std, iris_var respectively. The results must be rounded to not more than two decimal places."
   ]
  },
  {
   "cell_type": "code",
   "execution_count": 49,
   "id": "HQLaiBE50TuJ",
   "metadata": {
    "executionInfo": {
     "elapsed": 420,
     "status": "ok",
     "timestamp": 1697735803616,
     "user": {
      "displayName": "Tayyab Tavvagunta",
      "userId": "05736559268130400023"
     },
     "user_tz": -330
    },
    "id": "HQLaiBE50TuJ"
   },
   "outputs": [],
   "source": [
    "iris_max = np.round(np.max(iris, axis=0), 2)\n",
    "iris_min = np.round(np.min(iris, axis=0), 2)\n",
    "iris_avg = np.round(np.average(iris, axis=0), 2)\n",
    "iris_std = np.round(np.std(iris, axis=0), 2)\n",
    "iris_var = np.round(np.var(iris, axis=0), 2)"
   ]
  },
  {
   "cell_type": "markdown",
   "id": "0Ek8TMR91KTZ",
   "metadata": {
    "id": "0Ek8TMR91KTZ"
   },
   "source": [
    "### 9. Similarly find the max, min, mean, and standard deviation, variance for the columns of iris1, iris2 and iris3. Store the results in the arrays with appropriate names."
   ]
  },
  {
   "cell_type": "code",
   "execution_count": 50,
   "id": "NW_iNdL41i-R",
   "metadata": {
    "executionInfo": {
     "elapsed": 379,
     "status": "ok",
     "timestamp": 1697735810275,
     "user": {
      "displayName": "Tayyab Tavvagunta",
      "userId": "05736559268130400023"
     },
     "user_tz": -330
    },
    "id": "NW_iNdL41i-R"
   },
   "outputs": [],
   "source": [
    "iris1_max = np.round(np.max(iris1, axis=0), 2)\n",
    "iris1_min = np.round(np.min(iris1, axis=0), 2)\n",
    "iris1_avg = np.round(np.average(iris1, axis=0), 2)\n",
    "iris1_std = np.round(np.std(iris1, axis=0), 2)\n",
    "iris1_var = np.round(np.var(iris1, axis=0), 2)\n",
    "\n",
    "iris2_max = np.round(np.max(iris2, axis=0), 2)\n",
    "iris2_min = np.round(np.min(iris2, axis=0), 2)\n",
    "iris2_avg = np.round(np.average(iris2, axis=0), 2)\n",
    "iris2_std = np.round(np.std(iris2, axis=0), 2)\n",
    "iris2_var = np.round(np.var(iris2, axis=0), 2)\n",
    "\n",
    "iris3_max = np.round(np.max(iris3, axis=0), 2)\n",
    "iris3_min = np.round(np.min(iris3, axis=0), 2)\n",
    "iris3_avg = np.round(np.average(iris3, axis=0), 2)\n",
    "iris3_std = np.round(np.std(iris3, axis=0), 2)\n",
    "iris3_var = np.round(np.var(iris3, axis=0), 2)"
   ]
  },
  {
   "cell_type": "markdown",
   "id": "usDZTcIU21Rx",
   "metadata": {
    "id": "usDZTcIU21Rx"
   },
   "source": [
    "### 10.Check the minimum values of Sepal Length, Sepal Width, Petal Length, Petal Width for the three species in comparision to the minimum values of Sepal Length, Sepal Width, Petal Length, Petal Width for the dataset as a whole and fill the given table with True if species value is greater than dataset value and False otherwise."
   ]
  },
  {
   "cell_type": "code",
   "execution_count": 51,
   "id": "NdBsE5eY6oe6",
   "metadata": {
    "colab": {
     "base_uri": "https://localhost:8080/",
     "height": 175
    },
    "executionInfo": {
     "elapsed": 396,
     "status": "ok",
     "timestamp": 1697735821453,
     "user": {
      "displayName": "Tayyab Tavvagunta",
      "userId": "05736559268130400023"
     },
     "user_tz": -330
    },
    "id": "NdBsE5eY6oe6",
    "outputId": "867ead6d-7da0-4ddc-b468-e647d3a25498"
   },
   "outputs": [
    {
     "data": {
      "text/html": [
       "\n",
       "  <div id=\"df-d4763274-8482-4285-a720-cd0934ba4d2d\" class=\"colab-df-container\">\n",
       "    <div>\n",
       "<style scoped>\n",
       "    .dataframe tbody tr th:only-of-type {\n",
       "        vertical-align: middle;\n",
       "    }\n",
       "\n",
       "    .dataframe tbody tr th {\n",
       "        vertical-align: top;\n",
       "    }\n",
       "\n",
       "    .dataframe thead th {\n",
       "        text-align: right;\n",
       "    }\n",
       "</style>\n",
       "<table border=\"1\" class=\"dataframe\">\n",
       "  <thead>\n",
       "    <tr style=\"text-align: right;\">\n",
       "      <th></th>\n",
       "      <th>Iris Setosa</th>\n",
       "      <th>Iris Versicolor</th>\n",
       "      <th>Iris Virginica</th>\n",
       "    </tr>\n",
       "  </thead>\n",
       "  <tbody>\n",
       "    <tr>\n",
       "      <th>Sepal Length</th>\n",
       "      <td>False</td>\n",
       "      <td>True</td>\n",
       "      <td>True</td>\n",
       "    </tr>\n",
       "    <tr>\n",
       "      <th>Sepal Width</th>\n",
       "      <td>True</td>\n",
       "      <td>False</td>\n",
       "      <td>True</td>\n",
       "    </tr>\n",
       "    <tr>\n",
       "      <th>Petal Length</th>\n",
       "      <td>False</td>\n",
       "      <td>True</td>\n",
       "      <td>True</td>\n",
       "    </tr>\n",
       "    <tr>\n",
       "      <th>Petal Width</th>\n",
       "      <td>False</td>\n",
       "      <td>True</td>\n",
       "      <td>True</td>\n",
       "    </tr>\n",
       "  </tbody>\n",
       "</table>\n",
       "</div>\n",
       "    <div class=\"colab-df-buttons\">\n",
       "\n",
       "  <div class=\"colab-df-container\">\n",
       "    <button class=\"colab-df-convert\" onclick=\"convertToInteractive('df-d4763274-8482-4285-a720-cd0934ba4d2d')\"\n",
       "            title=\"Convert this dataframe to an interactive table.\"\n",
       "            style=\"display:none;\">\n",
       "\n",
       "  <svg xmlns=\"http://www.w3.org/2000/svg\" height=\"24px\" viewBox=\"0 -960 960 960\">\n",
       "    <path d=\"M120-120v-720h720v720H120Zm60-500h600v-160H180v160Zm220 220h160v-160H400v160Zm0 220h160v-160H400v160ZM180-400h160v-160H180v160Zm440 0h160v-160H620v160ZM180-180h160v-160H180v160Zm440 0h160v-160H620v160Z\"/>\n",
       "  </svg>\n",
       "    </button>\n",
       "\n",
       "  <style>\n",
       "    .colab-df-container {\n",
       "      display:flex;\n",
       "      gap: 12px;\n",
       "    }\n",
       "\n",
       "    .colab-df-convert {\n",
       "      background-color: #E8F0FE;\n",
       "      border: none;\n",
       "      border-radius: 50%;\n",
       "      cursor: pointer;\n",
       "      display: none;\n",
       "      fill: #1967D2;\n",
       "      height: 32px;\n",
       "      padding: 0 0 0 0;\n",
       "      width: 32px;\n",
       "    }\n",
       "\n",
       "    .colab-df-convert:hover {\n",
       "      background-color: #E2EBFA;\n",
       "      box-shadow: 0px 1px 2px rgba(60, 64, 67, 0.3), 0px 1px 3px 1px rgba(60, 64, 67, 0.15);\n",
       "      fill: #174EA6;\n",
       "    }\n",
       "\n",
       "    .colab-df-buttons div {\n",
       "      margin-bottom: 4px;\n",
       "    }\n",
       "\n",
       "    [theme=dark] .colab-df-convert {\n",
       "      background-color: #3B4455;\n",
       "      fill: #D2E3FC;\n",
       "    }\n",
       "\n",
       "    [theme=dark] .colab-df-convert:hover {\n",
       "      background-color: #434B5C;\n",
       "      box-shadow: 0px 1px 3px 1px rgba(0, 0, 0, 0.15);\n",
       "      filter: drop-shadow(0px 1px 2px rgba(0, 0, 0, 0.3));\n",
       "      fill: #FFFFFF;\n",
       "    }\n",
       "  </style>\n",
       "\n",
       "    <script>\n",
       "      const buttonEl =\n",
       "        document.querySelector('#df-d4763274-8482-4285-a720-cd0934ba4d2d button.colab-df-convert');\n",
       "      buttonEl.style.display =\n",
       "        google.colab.kernel.accessAllowed ? 'block' : 'none';\n",
       "\n",
       "      async function convertToInteractive(key) {\n",
       "        const element = document.querySelector('#df-d4763274-8482-4285-a720-cd0934ba4d2d');\n",
       "        const dataTable =\n",
       "          await google.colab.kernel.invokeFunction('convertToInteractive',\n",
       "                                                    [key], {});\n",
       "        if (!dataTable) return;\n",
       "\n",
       "        const docLinkHtml = 'Like what you see? Visit the ' +\n",
       "          '<a target=\"_blank\" href=https://colab.research.google.com/notebooks/data_table.ipynb>data table notebook</a>'\n",
       "          + ' to learn more about interactive tables.';\n",
       "        element.innerHTML = '';\n",
       "        dataTable['output_type'] = 'display_data';\n",
       "        await google.colab.output.renderOutput(dataTable, element);\n",
       "        const docLink = document.createElement('div');\n",
       "        docLink.innerHTML = docLinkHtml;\n",
       "        element.appendChild(docLink);\n",
       "      }\n",
       "    </script>\n",
       "  </div>\n",
       "\n",
       "\n",
       "<div id=\"df-8824290d-8bb1-41e4-bf0c-0afd20b0a324\">\n",
       "  <button class=\"colab-df-quickchart\" onclick=\"quickchart('df-8824290d-8bb1-41e4-bf0c-0afd20b0a324')\"\n",
       "            title=\"Suggest charts.\"\n",
       "            style=\"display:none;\">\n",
       "\n",
       "<svg xmlns=\"http://www.w3.org/2000/svg\" height=\"24px\"viewBox=\"0 0 24 24\"\n",
       "     width=\"24px\">\n",
       "    <g>\n",
       "        <path d=\"M19 3H5c-1.1 0-2 .9-2 2v14c0 1.1.9 2 2 2h14c1.1 0 2-.9 2-2V5c0-1.1-.9-2-2-2zM9 17H7v-7h2v7zm4 0h-2V7h2v10zm4 0h-2v-4h2v4z\"/>\n",
       "    </g>\n",
       "</svg>\n",
       "  </button>\n",
       "\n",
       "<style>\n",
       "  .colab-df-quickchart {\n",
       "      --bg-color: #E8F0FE;\n",
       "      --fill-color: #1967D2;\n",
       "      --hover-bg-color: #E2EBFA;\n",
       "      --hover-fill-color: #174EA6;\n",
       "      --disabled-fill-color: #AAA;\n",
       "      --disabled-bg-color: #DDD;\n",
       "  }\n",
       "\n",
       "  [theme=dark] .colab-df-quickchart {\n",
       "      --bg-color: #3B4455;\n",
       "      --fill-color: #D2E3FC;\n",
       "      --hover-bg-color: #434B5C;\n",
       "      --hover-fill-color: #FFFFFF;\n",
       "      --disabled-bg-color: #3B4455;\n",
       "      --disabled-fill-color: #666;\n",
       "  }\n",
       "\n",
       "  .colab-df-quickchart {\n",
       "    background-color: var(--bg-color);\n",
       "    border: none;\n",
       "    border-radius: 50%;\n",
       "    cursor: pointer;\n",
       "    display: none;\n",
       "    fill: var(--fill-color);\n",
       "    height: 32px;\n",
       "    padding: 0;\n",
       "    width: 32px;\n",
       "  }\n",
       "\n",
       "  .colab-df-quickchart:hover {\n",
       "    background-color: var(--hover-bg-color);\n",
       "    box-shadow: 0 1px 2px rgba(60, 64, 67, 0.3), 0 1px 3px 1px rgba(60, 64, 67, 0.15);\n",
       "    fill: var(--button-hover-fill-color);\n",
       "  }\n",
       "\n",
       "  .colab-df-quickchart-complete:disabled,\n",
       "  .colab-df-quickchart-complete:disabled:hover {\n",
       "    background-color: var(--disabled-bg-color);\n",
       "    fill: var(--disabled-fill-color);\n",
       "    box-shadow: none;\n",
       "  }\n",
       "\n",
       "  .colab-df-spinner {\n",
       "    border: 2px solid var(--fill-color);\n",
       "    border-color: transparent;\n",
       "    border-bottom-color: var(--fill-color);\n",
       "    animation:\n",
       "      spin 1s steps(1) infinite;\n",
       "  }\n",
       "\n",
       "  @keyframes spin {\n",
       "    0% {\n",
       "      border-color: transparent;\n",
       "      border-bottom-color: var(--fill-color);\n",
       "      border-left-color: var(--fill-color);\n",
       "    }\n",
       "    20% {\n",
       "      border-color: transparent;\n",
       "      border-left-color: var(--fill-color);\n",
       "      border-top-color: var(--fill-color);\n",
       "    }\n",
       "    30% {\n",
       "      border-color: transparent;\n",
       "      border-left-color: var(--fill-color);\n",
       "      border-top-color: var(--fill-color);\n",
       "      border-right-color: var(--fill-color);\n",
       "    }\n",
       "    40% {\n",
       "      border-color: transparent;\n",
       "      border-right-color: var(--fill-color);\n",
       "      border-top-color: var(--fill-color);\n",
       "    }\n",
       "    60% {\n",
       "      border-color: transparent;\n",
       "      border-right-color: var(--fill-color);\n",
       "    }\n",
       "    80% {\n",
       "      border-color: transparent;\n",
       "      border-right-color: var(--fill-color);\n",
       "      border-bottom-color: var(--fill-color);\n",
       "    }\n",
       "    90% {\n",
       "      border-color: transparent;\n",
       "      border-bottom-color: var(--fill-color);\n",
       "    }\n",
       "  }\n",
       "</style>\n",
       "\n",
       "  <script>\n",
       "    async function quickchart(key) {\n",
       "      const quickchartButtonEl =\n",
       "        document.querySelector('#' + key + ' button');\n",
       "      quickchartButtonEl.disabled = true;  // To prevent multiple clicks.\n",
       "      quickchartButtonEl.classList.add('colab-df-spinner');\n",
       "      try {\n",
       "        const charts = await google.colab.kernel.invokeFunction(\n",
       "            'suggestCharts', [key], {});\n",
       "      } catch (error) {\n",
       "        console.error('Error during call to suggestCharts:', error);\n",
       "      }\n",
       "      quickchartButtonEl.classList.remove('colab-df-spinner');\n",
       "      quickchartButtonEl.classList.add('colab-df-quickchart-complete');\n",
       "    }\n",
       "    (() => {\n",
       "      let quickchartButtonEl =\n",
       "        document.querySelector('#df-8824290d-8bb1-41e4-bf0c-0afd20b0a324 button');\n",
       "      quickchartButtonEl.style.display =\n",
       "        google.colab.kernel.accessAllowed ? 'block' : 'none';\n",
       "    })();\n",
       "  </script>\n",
       "</div>\n",
       "    </div>\n",
       "  </div>\n"
      ],
      "text/plain": [
       "              Iris Setosa  Iris Versicolor  Iris Virginica\n",
       "Sepal Length        False             True            True\n",
       "Sepal Width          True            False            True\n",
       "Petal Length        False             True            True\n",
       "Petal Width         False             True            True"
      ]
     },
     "metadata": {},
     "output_type": "display_data"
    }
   ],
   "source": [
    "data = {'Iris Setosa': np.transpose(iris_min < iris1_min),\n",
    "        'Iris Versicolor':np.transpose(iris_min < iris2_min),\n",
    "        'Iris Virginica':np.transpose(iris_min < iris3_min)}\n",
    "\n",
    "df=pd.DataFrame(data)\n",
    "\n",
    "df.index=[\"Sepal Length\", \"Sepal Width\", \"Petal Length\", \"Petal Width\"]\n",
    "\n",
    "display(df)"
   ]
  },
  {
   "cell_type": "markdown",
   "id": "gwhg45qv3BpB",
   "metadata": {
    "id": "gwhg45qv3BpB"
   },
   "source": [
    "### 11. Compare Iris setosa's average Sepal Width to that of Iris virginica."
   ]
  },
  {
   "cell_type": "code",
   "execution_count": 52,
   "id": "KXcW0Ro45pp5",
   "metadata": {
    "colab": {
     "base_uri": "https://localhost:8080/"
    },
    "executionInfo": {
     "elapsed": 5,
     "status": "ok",
     "timestamp": 1697735883779,
     "user": {
      "displayName": "Tayyab Tavvagunta",
      "userId": "05736559268130400023"
     },
     "user_tz": -330
    },
    "id": "KXcW0Ro45pp5",
    "outputId": "9fcc9d11-9fff-4fc7-eadf-7da47811a17f"
   },
   "outputs": [
    {
     "name": "stdout",
     "output_type": "stream",
     "text": [
      "Iris Setosa Average Sepal Width is Greater than Iris Virginica:  True\n"
     ]
    }
   ],
   "source": [
    "print('Iris Setosa Average Sepal Width is Greater than Iris Virginica: ', iris1_avg[1]>iris3_avg[1])"
   ]
  },
  {
   "cell_type": "markdown",
   "id": "5SJN43aA3SMp",
   "metadata": {
    "id": "5SJN43aA3SMp"
   },
   "source": [
    "### 12. Compare Iris setosa's average Sepal Length to that of Iris virginica."
   ]
  },
  {
   "cell_type": "code",
   "execution_count": 53,
   "id": "KsAbLSz059Yt",
   "metadata": {
    "colab": {
     "base_uri": "https://localhost:8080/"
    },
    "executionInfo": {
     "elapsed": 5,
     "status": "ok",
     "timestamp": 1697735887134,
     "user": {
      "displayName": "Tayyab Tavvagunta",
      "userId": "05736559268130400023"
     },
     "user_tz": -330
    },
    "id": "KsAbLSz059Yt",
    "outputId": "6c4d25ef-64ee-4c12-a69a-3a966d0e285b"
   },
   "outputs": [
    {
     "name": "stdout",
     "output_type": "stream",
     "text": [
      "Iris Setosa Average Petal Length is Greater than Iris Virginica:  False\n"
     ]
    }
   ],
   "source": [
    "print('Iris Setosa Average Petal Length is Greater than Iris Virginica: ',iris1_avg[2]>iris3_avg[2])"
   ]
  },
  {
   "cell_type": "markdown",
   "id": "ovTuOAni3VFR",
   "metadata": {
    "id": "ovTuOAni3VFR"
   },
   "source": [
    "### 13. Compare Iris setosa's average Petal Width to that of Iris virginica."
   ]
  },
  {
   "cell_type": "code",
   "execution_count": 54,
   "id": "l0cCxbpY6PZZ",
   "metadata": {
    "colab": {
     "base_uri": "https://localhost:8080/"
    },
    "executionInfo": {
     "elapsed": 5,
     "status": "ok",
     "timestamp": 1697735889973,
     "user": {
      "displayName": "Tayyab Tavvagunta",
      "userId": "05736559268130400023"
     },
     "user_tz": -330
    },
    "id": "l0cCxbpY6PZZ",
    "outputId": "55e7ed22-b6ee-4cd6-dd3f-2ef2a9a96e28"
   },
   "outputs": [
    {
     "name": "stdout",
     "output_type": "stream",
     "text": [
      "Iris Setosa Average Petal Width is Greater than Iris Virginica:  False\n"
     ]
    }
   ],
   "source": [
    "print('Iris Setosa Average Petal Width is Greater than Iris Virginica: ',iris1_avg[3]>iris3_avg[3])"
   ]
  },
  {
   "cell_type": "markdown",
   "id": "C2vlysiq3qwD",
   "metadata": {
    "id": "C2vlysiq3qwD"
   },
   "source": [
    "### 14. Save the iris_avg in a comma seperated file named IrisMeanValues.txt on the hard disk."
   ]
  },
  {
   "cell_type": "code",
   "execution_count": 55,
   "id": "noEx-4ot45RZ",
   "metadata": {
    "executionInfo": {
     "elapsed": 3,
     "status": "ok",
     "timestamp": 1697735894141,
     "user": {
      "displayName": "Tayyab Tavvagunta",
      "userId": "05736559268130400023"
     },
     "user_tz": -330
    },
    "id": "noEx-4ot45RZ"
   },
   "outputs": [],
   "source": [
    "np.savetxt('IrisMeanValues.txt', [iris_avg], delimiter=\", \", fmt='%.2f')"
   ]
  },
  {
   "cell_type": "markdown",
   "id": "p1yIs8yN3gTg",
   "metadata": {
    "id": "p1yIs8yN3gTg"
   },
   "source": [
    "### 15. Save the iris_max, iris_avg, iris_min in a comma seperated file named IrisStat.txt on the hard disk."
   ]
  },
  {
   "cell_type": "code",
   "execution_count": 56,
   "id": "95P7A5Bk4ItI",
   "metadata": {
    "executionInfo": {
     "elapsed": 4,
     "status": "ok",
     "timestamp": 1697735897501,
     "user": {
      "displayName": "Tayyab Tavvagunta",
      "userId": "05736559268130400023"
     },
     "user_tz": -330
    },
    "id": "95P7A5Bk4ItI"
   },
   "outputs": [],
   "source": [
    "data = [iris_max, iris_avg, iris_min]\n",
    "\n",
    "np.savetxt('IrisStat.txt', data, delimiter=\", \", fmt='%.2f')"
   ]
  }
 ],
 "metadata": {
  "colab": {
   "provenance": []
  },
  "kernelspec": {
   "display_name": "Python 3 (ipykernel)",
   "language": "python",
   "name": "python3"
  },
  "language_info": {
   "codemirror_mode": {
    "name": "ipython",
    "version": 3
   },
   "file_extension": ".py",
   "mimetype": "text/x-python",
   "name": "python",
   "nbconvert_exporter": "python",
   "pygments_lexer": "ipython3",
   "version": "3.10.9"
  }
 },
 "nbformat": 4,
 "nbformat_minor": 5
}
