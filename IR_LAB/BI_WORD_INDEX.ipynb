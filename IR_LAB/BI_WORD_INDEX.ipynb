{
 "cells": [
  {
   "cell_type": "markdown",
   "id": "42f19805",
   "metadata": {},
   "source": [
    "# BI_WORD_INDEX - normal apporach"
   ]
  },
  {
   "cell_type": "code",
   "execution_count": 1,
   "id": "debc58a0",
   "metadata": {},
   "outputs": [],
   "source": [
    "\n",
    "\n",
    "def finding(text):\n",
    "    words = []\n",
    "    curr_word = \"\"\n",
    "    for ch in text:\n",
    "        if ch.isalnum() or ch == '_':\n",
    "            curr_word += ch\n",
    "        else:\n",
    "            if curr_word:\n",
    "                words.append(curr_word.lower())\n",
    "            curr_word = \"\"\n",
    "    if curr_word:\n",
    "        words.append(curr_word.lower())\n",
    "    return words"
   ]
  },
  {
   "cell_type": "code",
   "execution_count": 2,
   "id": "a3bb851d",
   "metadata": {},
   "outputs": [],
   "source": [
    "def build_biword_index(texts):\n",
    "    index = {}\n",
    "    for text_id, text in enumerate(texts):\n",
    "        words = finding(text)\n",
    "        for i in range(len(words) - 1):\n",
    "            biword = words[i] + ' ' + words[i + 1]\n",
    "            if biword not in index:\n",
    "                index[biword] = []\n",
    "            index[biword].append((text_id, i))\n",
    "    return index"
   ]
  },
  {
   "cell_type": "code",
   "execution_count": 3,
   "id": "c429fe34",
   "metadata": {},
   "outputs": [],
   "source": [
    "def search_biword_index(index, query):\n",
    "    query_words = finding(query)\n",
    "    biword_query = ' '.join(query_words)\n",
    "    if biword_query in index:\n",
    "        return index[biword_query]\n",
    "    else:\n",
    "        return []\n",
    "\n",
    "\n",
    "texts = [\n",
    "    \"neeraj is a good boy. He is doing programming.\",\n",
    "    \"time doesn't heal anything , it just teaches how to live with pain\",\n",
    "    \"know pain, feel pain , accept pain , those who doesn't understand the true pain cannot find the true peace.\"\n",
    "]\n",
    "\n",
    "\n",
    "biword_index = build_biword_index(texts)\n",
    "\n",
    "\n",
    "queries = [\"neeraj is\", \"doing anything\", \"know pain\", \"accept pain\", \"tayyab\"]"
   ]
  },
  {
   "cell_type": "code",
   "execution_count": 4,
   "id": "9738541b",
   "metadata": {},
   "outputs": [
    {
     "name": "stdout",
     "output_type": "stream",
     "text": [
      "neeraj is [(0, 0)]\n",
      "is a [(0, 1)]\n",
      "a good [(0, 2)]\n",
      "good boy [(0, 3)]\n",
      "boy he [(0, 4)]\n",
      "he is [(0, 5)]\n",
      "is doing [(0, 6)]\n",
      "doing programming [(0, 7)]\n",
      "time doesn [(1, 0)]\n",
      "doesn t [(1, 1), (2, 8)]\n",
      "t heal [(1, 2)]\n",
      "heal anything [(1, 3)]\n",
      "anything it [(1, 4)]\n",
      "it just [(1, 5)]\n",
      "just teaches [(1, 6)]\n",
      "teaches how [(1, 7)]\n",
      "how to [(1, 8)]\n",
      "to live [(1, 9)]\n",
      "live with [(1, 10)]\n",
      "with pain [(1, 11)]\n",
      "know pain [(2, 0)]\n",
      "pain feel [(2, 1)]\n",
      "feel pain [(2, 2)]\n",
      "pain accept [(2, 3)]\n",
      "accept pain [(2, 4)]\n",
      "pain those [(2, 5)]\n",
      "those who [(2, 6)]\n",
      "who doesn [(2, 7)]\n",
      "t understand [(2, 9)]\n",
      "understand the [(2, 10)]\n",
      "the true [(2, 11), (2, 16)]\n",
      "true pain [(2, 12)]\n",
      "pain cannot [(2, 13)]\n",
      "cannot find [(2, 14)]\n",
      "find the [(2, 15)]\n",
      "true peace [(2, 17)]\n",
      "Query: 'neeraj is' - Found in texts: 0 at positions: 0\n",
      "Query: 'doing anything' - Not found\n",
      "Query: 'know pain' - Found in texts: 2 at positions: 0\n",
      "Query: 'accept pain' - Found in texts: 2 at positions: 4\n",
      "Query: 'tayyab' - Not found\n"
     ]
    }
   ],
   "source": [
    "for i,j in biword_index.items():\n",
    "    print(i,j)\n",
    "    \n",
    "for query in queries:\n",
    "    results = search_biword_index(biword_index, query)\n",
    "    if results:\n",
    "        print(f\"Query: '{query}' - Found in texts: {', '.join([str(text_id) for text_id, _ in results])} at positions: {', '.join([str(position) for _, position in results])}\")\n",
    "    else:\n",
    "        print(f\"Query: '{query}' - Not found\")"
   ]
  },
  {
   "cell_type": "markdown",
   "id": "3e1b6c51",
   "metadata": {},
   "source": [
    "# BI_WORD_INDEX - Dynamic_Apporach"
   ]
  },
  {
   "cell_type": "code",
   "execution_count": 5,
   "id": "33793d85",
   "metadata": {},
   "outputs": [],
   "source": [
    "def finding(text):\n",
    "    words = []\n",
    "    curr_word = \"\"\n",
    "    for ch in text:\n",
    "        if ch.isalnum() or ch == '_':\n",
    "            curr_word += ch\n",
    "        else:\n",
    "            if curr_word:\n",
    "                words.append(curr_word.lower())\n",
    "            curr_word = \"\"\n",
    "    if curr_word:\n",
    "        words.append(curr_word.lower())\n",
    "    return words"
   ]
  },
  {
   "cell_type": "code",
   "execution_count": 6,
   "id": "9f42e4be",
   "metadata": {},
   "outputs": [],
   "source": [
    "def build_biword_index(texts):\n",
    "    index = {}\n",
    "    for text_id, text in enumerate(texts):\n",
    "        words = finding(text)\n",
    "        for i in range(len(words) - 1):\n",
    "            biword = words[i] + ' ' + words[i + 1]\n",
    "            if biword not in index:\n",
    "                index[biword] = []\n",
    "            index[biword].append((text_id, i))\n",
    "    return index"
   ]
  },
  {
   "cell_type": "code",
   "execution_count": 9,
   "id": "5bc79e97",
   "metadata": {},
   "outputs": [
    {
     "name": "stdout",
     "output_type": "stream",
     "text": [
      "Enter the number of texts: 3\n",
      "Enter text #1: i am iron man\n",
      "Enter text #2: i am captain america , you fool\n",
      "Enter text #3: i am the thor, god of thunder\n"
     ]
    }
   ],
   "source": [
    "def search_biword_index(index, query):\n",
    "    query_words = finding(query)\n",
    "    biword_query = ' '.join(query_words)\n",
    "    if biword_query in index:\n",
    "        return index[biword_query]\n",
    "    else:\n",
    "        return []\n",
    "\n",
    "\n",
    "texts = []\n",
    "text_count = int(input(\"Enter the number of texts: \"))\n",
    "for i in range(text_count):\n",
    "    text = input(f\"Enter text #{i+1}: \")\n",
    "    texts.append(text)\n",
    "\n",
    "\n",
    "biword_index = build_biword_index(texts)"
   ]
  },
  {
   "cell_type": "code",
   "execution_count": 12,
   "id": "eef7dfd9",
   "metadata": {},
   "outputs": [
    {
     "name": "stdout",
     "output_type": "stream",
     "text": [
      "Enter the number of queries: 2\n",
      "Enter query #1: am iron\n",
      "Enter query #2: am captain\n",
      "i am [(0, 0), (1, 0), (2, 0)]\n",
      "am iron [(0, 1)]\n",
      "iron man [(0, 2)]\n",
      "am captain [(1, 1)]\n",
      "captain america [(1, 2)]\n",
      "america you [(1, 3)]\n",
      "you fool [(1, 4)]\n",
      "am the [(2, 1)]\n",
      "the thor [(2, 2)]\n",
      "thor god [(2, 3)]\n",
      "god of [(2, 4)]\n",
      "of thunder [(2, 5)]\n",
      "Query: 'am iron' - Found in texts: 0 at positions: 1\n",
      "Query: 'am captain' - Found in texts: 1 at positions: 1\n"
     ]
    }
   ],
   "source": [
    "queries = []\n",
    "query_count = int(input(\"Enter the number of queries: \"))\n",
    "for i in range(query_count):\n",
    "    query = input(f\"Enter query #{i+1}: \")\n",
    "    queries.append(query)\n",
    "\n",
    "for i,j in biword_index.items():\n",
    "    print(i,j)\n",
    "for query in queries:\n",
    "    results = search_biword_index(biword_index, query)\n",
    "    if results:\n",
    "        print(f\"Query: '{query}' - Found in texts: {', '.join([str(text_id) for text_id, _ in results])} at positions: {', '.join([str(position) for _, position in results])}\")\n",
    "    else:\n",
    "        print(f\"Query: '{query}' - Not found\")"
   ]
  }
 ],
 "metadata": {
  "kernelspec": {
   "display_name": "Python 3 (ipykernel)",
   "language": "python",
   "name": "python3"
  },
  "language_info": {
   "codemirror_mode": {
    "name": "ipython",
    "version": 3
   },
   "file_extension": ".py",
   "mimetype": "text/x-python",
   "name": "python",
   "nbconvert_exporter": "python",
   "pygments_lexer": "ipython3",
   "version": "3.10.9"
  }
 },
 "nbformat": 4,
 "nbformat_minor": 5
}
